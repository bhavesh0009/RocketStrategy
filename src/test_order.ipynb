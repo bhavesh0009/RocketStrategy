{
 "cells": [
  {
   "cell_type": "code",
   "execution_count": 1,
   "metadata": {},
   "outputs": [
    {
     "name": "stderr",
     "output_type": "stream",
     "text": [
      "DEBUG:NorenRestApiPy.NorenApi:https://profitmax.profitmart.in/NorenWClientTP/QuickAuth\n",
      "DEBUG:NorenRestApiPy.NorenApi:Req:jData={\"source\": \"API\", \"apkversion\": \"1.0.0\", \"uid\": \"35660003\", \"pwd\": \"6ad0955ebe85166b506fdc895574ef8a0db202fdba8891d1598f930b68623acf\", \"factor2\": \"AJLPD7024M\", \"vc\": \"35660003\", \"appkey\": \"472efe01e3e747afec41e45b97d066ad4fb35964b58b3280750bca17caf5769d\", \"imei\": \"1234\"}\n",
      "DEBUG:urllib3.connectionpool:Starting new HTTPS connection (1): profitmax.profitmart.in:443\n",
      "DEBUG:urllib3.connectionpool:https://profitmax.profitmart.in:443 \"POST /NorenWClientTP/QuickAuth HTTP/1.1\" 200 1004\n",
      "DEBUG:NorenRestApiPy.NorenApi:Reply:{\"request_time\":\"10:50:11 21-06-2023\",\"actid\":\"35660003\",\"access_type\":[\"API\",\"TT\",\"WEB\",\"MOB\"],\"uname\":\"NARESH KUMAR DAS\",\"prarr\":[{\"prd\":\"C\",\"s_prdt_ali\":\"CNC\",\"exch\":[\"NSE\"]},{\"prd\":\"M\",\"s_prdt_ali\":\"NRML\",\"exch\":[\"NFO\",\"CDS\",\"MCX\"]},{\"prd\":\"I\",\"s_prdt_ali\":\"MIS\",\"exch\":[\"NSE\",\"NFO\",\"CDS\",\"MCX\"]},{\"prd\":\"H\",\"s_prdt_ali\":\"CO\",\"exch\":[\"NSE\",\"NFO\",\"CDS\",\"MCX\"]},{\"prd\":\"B\",\"s_prdt_ali\":\"BO\",\"exch\":[\"NSE\",\"NFO\",\"CDS\",\"MCX\"]}],\"stat\":\"Ok\",\"susertoken\":\"1a23d090d3061507cc3c4c27ae4f97f5b4aca5678b417c46cd397a040af59895\",\"email\":\"rklsonu@gmail.com\",\"uid\":\"35660003\",\"brnchid\":\"3566\",\"totp_set\":\"1\",\"m_num\":\"9937080310\",\"orarr\":[\"MKT\",\"LMT\",\"SL-LMT\",\"SL-MKT\",\"DS\"],\"exarr\":[\"NSE\",\"NFO\",\"CDS\",\"MCX\"],\"values\":[\"GreeksWatch\",\"1\"],\"mws\":{\"GreeksWatch\":[],\"1\":[{\"exch\":\"NSE\",\"token\":\"5900\",\"tsym\":\"AXISBANK-EQ\",\"instname\":\"EQ\",\"pp\":\"2\",\"ls\":\"1\",\"ti\":\"0.05\"},{\"exch\":\"NSE\",\"token\":\"2885\",\"tsym\":\"RELIANCE-EQ\",\"instname\":\"EQ\",\"pp\":\"2\",\"ls\":\"1\",\"ti\":\"0.05\"}]},\"brkname\":\"PROFITMART\",\"lastaccesstime\":\"1687324811\"}\n",
      "DEBUG:NorenRestApiPy.NorenApi:https://profitmax.profitmart.in/NorenWClientTP/SearchScrip\n",
      "DEBUG:NorenRestApiPy.NorenApi:jData={\"uid\": \"35660003\", \"exch\": \"NSE\", \"stext\": \"SBIN-EQ\"}&jKey=1a23d090d3061507cc3c4c27ae4f97f5b4aca5678b417c46cd397a040af59895\n",
      "DEBUG:urllib3.connectionpool:Starting new HTTPS connection (1): profitmax.profitmart.in:443\n"
     ]
    },
    {
     "name": "stdout",
     "output_type": "stream",
     "text": [
      "success\n"
     ]
    },
    {
     "name": "stderr",
     "output_type": "stream",
     "text": [
      "DEBUG:urllib3.connectionpool:https://profitmax.profitmart.in:443 \"POST /NorenWClientTP/SearchScrip HTTP/1.1\" 200 147\n",
      "DEBUG:NorenRestApiPy.NorenApi:{\"stat\":\"Ok\",\"values\":[{\"exch\":\"NSE\",\"token\":\"3045\",\"tsym\":\"SBIN-EQ\",\"cname\":\"STATE BANK OF INDIA\",\"instname\":\"EQ\",\"pp\":\"2\",\"ls\":\"1\",\"ti\":\"0.05\"}]}\n",
      "DEBUG:NorenRestApiPy.NorenApi:https://profitmax.profitmart.in/NorenWClientTP/GetQuotes\n",
      "DEBUG:NorenRestApiPy.NorenApi:jData={\"uid\": \"35660003\", \"exch\": \"NSE\", \"token\": \"3045\"}&jKey=1a23d090d3061507cc3c4c27ae4f97f5b4aca5678b417c46cd397a040af59895\n",
      "DEBUG:urllib3.connectionpool:Starting new HTTPS connection (1): profitmax.profitmart.in:443\n",
      "DEBUG:urllib3.connectionpool:https://profitmax.profitmart.in:443 \"POST /NorenWClientTP/GetQuotes HTTP/1.1\" 200 920\n",
      "DEBUG:NorenRestApiPy.NorenApi:{\"request_time\":\"10:50:11 21-06-2023\",\"stat\":\"Ok\",\"exch\":\"NSE\",\"tsym\":\"SBIN-EQ\",\"cname\":\"STATE BANK OF INDIA\",\"symname\":\"SBIN\",\"seg\":\"EQT\",\"instname\":\"EQ\",\"isin\":\"INE062A01020\",\"pp\":\"2\",\"ls\":\"1\",\"ti\":\"0.05\",\"mult\":\"1\",\"lut\":\"1687324811\",\"uc\":\"624.10\",\"lc\":\"510.70\",\"wk52_h\":\"629.54\",\"wk52_l\":\"430.70\",\"toi\":\"202423500\",\"prcftr_d\":\"(1 / 1 ) * (1 / 1)\",\"token\":\"3045\",\"lp\":\"568.65\",\"c\":\"567.40\",\"h\":\"569.35\",\"l\":\"566.10\",\"ap\":\"567.85\",\"o\":\"567.40\",\"v\":\"3728454\",\"ltq\":\"6\",\"ltt\":\"10:50:11\",\"ltd\":\"21-06-2023\",\"tbq\":\"817776\",\"tsq\":\"1248494\",\"bp1\":\"568.60\",\"sp1\":\"568.65\",\"bp2\":\"568.50\",\"sp2\":\"568.70\",\"bp3\":\"568.45\",\"sp3\":\"568.75\",\"bp4\":\"568.40\",\"sp4\":\"568.80\",\"bp5\":\"568.35\",\"sp5\":\"568.85\",\"bq1\":\"30\",\"sq1\":\"3926\",\"bq2\":\"1380\",\"sq2\":\"6060\",\"bq3\":\"183\",\"sq3\":\"4651\",\"bq4\":\"657\",\"sq4\":\"5832\",\"bq5\":\"1568\",\"sq5\":\"7680\",\"bo1\":\"1\",\"so1\":\"10\",\"bo2\":\"7\",\"so2\":\"12\",\"bo3\":\"2\",\"so3\":\"19\",\"bo4\":\"10\",\"so4\":\"38\",\"bo5\":\"13\",\"so5\":\"25\"}\n"
     ]
    },
    {
     "name": "stdout",
     "output_type": "stream",
     "text": [
      "{'request_time': '10:50:11 21-06-2023', 'stat': 'Ok', 'exch': 'NSE', 'tsym': 'SBIN-EQ', 'cname': 'STATE BANK OF INDIA', 'symname': 'SBIN', 'seg': 'EQT', 'instname': 'EQ', 'isin': 'INE062A01020', 'pp': '2', 'ls': '1', 'ti': '0.05', 'mult': '1', 'lut': '1687324811', 'uc': '624.10', 'lc': '510.70', 'wk52_h': '629.54', 'wk52_l': '430.70', 'toi': '202423500', 'prcftr_d': '(1 / 1 ) * (1 / 1)', 'token': '3045', 'lp': '568.65', 'c': '567.40', 'h': '569.35', 'l': '566.10', 'ap': '567.85', 'o': '567.40', 'v': '3728454', 'ltq': '6', 'ltt': '10:50:11', 'ltd': '21-06-2023', 'tbq': '817776', 'tsq': '1248494', 'bp1': '568.60', 'sp1': '568.65', 'bp2': '568.50', 'sp2': '568.70', 'bp3': '568.45', 'sp3': '568.75', 'bp4': '568.40', 'sp4': '568.80', 'bp5': '568.35', 'sp5': '568.85', 'bq1': '30', 'sq1': '3926', 'bq2': '1380', 'sq2': '6060', 'bq3': '183', 'sq3': '4651', 'bq4': '657', 'sq4': '5832', 'bq5': '1568', 'sq5': '7680', 'bo1': '1', 'so1': '10', 'bo2': '7', 'so2': '12', 'bo3': '2', 'so3': '19', 'bo4': '10', 'so4': '38', 'bo5': '13', 'so5': '25'}\n"
     ]
    }
   ],
   "source": [
    "from toolkit.fileutils import Fileutils\n",
    "from omspy_brokers.finvasia import Finvasia\n",
    "import logging\n",
    "import os\n",
    "import yaml\n",
    "\n",
    "logging.basicConfig(level=logging.DEBUG)\n",
    "\n",
    "# sec_dir = \"../../../\"\n",
    "with open(\"../config/api_credentials.yaml\", \"r\") as file:\n",
    "    credentials = yaml.safe_load(file)\n",
    "m = credentials\n",
    "pmart = Finvasia(user_id=m['uid'], password=m['pwd'], pin=m['factor2'],\n",
    "                vendor_code=m['vc'], app_key=m['app_key'], imei=\"1234\",\n",
    "                broker=\"profitmart\")\n",
    "if pmart.authenticate():\n",
    "    print(\"success\")\n",
    "\n",
    "token = pmart.instrument_symbol(\"NSE\", \"SBIN-EQ\")\n",
    "resp = pmart.scriptinfo(\"NSE\", token)\n",
    "print(resp)"
   ]
  },
  {
   "cell_type": "code",
   "execution_count": 3,
   "metadata": {},
   "outputs": [
    {
     "name": "stderr",
     "output_type": "stream",
     "text": [
      "DEBUG:NorenRestApiPy.NorenApi:https://profitmax.profitmart.in/NorenWClientTP/PlaceOrder\n",
      "DEBUG:NorenRestApiPy.NorenApi:jData={\"ordersource\": \"API\", \"uid\": \"35660003\", \"actid\": \"35660003\", \"trantype\": \"B\", \"prd\": \"B\", \"exch\": \"NSE\", \"tsym\": \"SBIN-EQ\", \"qty\": \"1\", \"dscqty\": \"0\", \"prctyp\": \"SL-LMT\", \"prc\": \"570\", \"trgprc\": \"569.5\", \"ret\": \"DAY\", \"remarks\": \"no_remarks\", \"amo\": \"NO\", \"blprc\": \"550\", \"bpprc\": \"590\"}&jKey=388223e5fc499118c32f30413895f34124f660542978124351ed43b83a114606\n",
      "DEBUG:urllib3.connectionpool:Starting new HTTPS connection (1): profitmax.profitmart.in:443\n",
      "DEBUG:urllib3.connectionpool:https://profitmax.profitmart.in:443 \"POST /NorenWClientTP/PlaceOrder HTTP/1.1\" 200 80\n",
      "DEBUG:NorenRestApiPy.NorenApi:{\"request_time\":\"12:03:46 20-06-2023\",\"stat\":\"Ok\",\"norenordno\":\"23062000037017\"}\n"
     ]
    },
    {
     "data": {
      "text/plain": [
       "'23062000037017'"
      ]
     },
     "execution_count": 3,
     "metadata": {},
     "output_type": "execute_result"
    }
   ],
   "source": [
    "# Set the parameters.\n",
    "buy_or_sell = \"B\"\n",
    "product_type = \"B\"\n",
    "exchange = \"NSE\"\n",
    "tradingsymbol = \"SBIN\"\n",
    "quantity = 1\n",
    "discloseqty = 0\n",
    "price_type = \"SL-L\"\n",
    "price = 570\n",
    "trigger_price = 569.5\n",
    "stoploss = 550\n",
    "target = 590\n",
    "validity ='DAY'\n",
    "pmart.order_place(side=buy_or_sell, product=product_type,\n",
    "                  exchange=exchange, symbol=tradingsymbol, \n",
    "                  quantity=quantity, order_type=price_type,\n",
    "                  validity=validity, \n",
    "                  price=price, trigger_price=trigger_price,\n",
    "                  bookloss_price=stoploss, bookprofit_price=target\n",
    "                  )"
   ]
  },
  {
   "cell_type": "code",
   "execution_count": null,
   "metadata": {},
   "outputs": [],
   "source": []
  },
  {
   "cell_type": "code",
   "execution_count": 18,
   "metadata": {},
   "outputs": [
    {
     "name": "stderr",
     "output_type": "stream",
     "text": [
      "DEBUG:NorenRestApiPy.NorenApi:https://profitmax.profitmart.in/NorenWClientTP/OrderBook\n",
      "DEBUG:NorenRestApiPy.NorenApi:jData={\"ordersource\": \"API\", \"uid\": \"35660003\"}&jKey=1a23d090d3061507cc3c4c27ae4f97f5b4aca5678b417c46cd397a040af59895\n",
      "DEBUG:urllib3.connectionpool:Starting new HTTPS connection (1): profitmax.profitmart.in:443\n",
      "DEBUG:urllib3.connectionpool:https://profitmax.profitmart.in:443 \"POST /NorenWClientTP/OrderBook HTTP/1.1\" 200 3429\n",
      "DEBUG:NorenRestApiPy.NorenApi:[{\"stat\":\"Ok\",\"norenordno\":\"23062100026266\",\"kidid\":\"1\",\"uid\":\"35660003\",\"actid\":\"35660003\",\"exch\":\"NSE\",\"tsym\":\"SHRIRAMFIN-EQ\",\"qty\":\"1\",\"ordenttm\":\"1687324434\",\"trantype\":\"S\",\"prctyp\":\"SL-LMT\",\"ret\":\"DAY\",\"token\":\"4306\",\"mult\":\"1\",\"prcftr\":\"1.000000\",\"pp\":\"2\",\"ls\":\"1\",\"ti\":\"0.05\",\"prc\":\"1571.15\",\"trgprc\":\"1572.65\",\"rprc\":\"1571.15\",\"dscqty\":\"0\",\"s_prdt_ali\":\"MIS\",\"prd\":\"I\",\"status\":\"TRIGGER_PENDING\",\"st_intrn\":\"TRIGGER_PENDING\",\"norentm\":\"10:43:54 21-06-2023\",\"exch_tm\":\"21-06-2023 10:43:54\",\"remarks\":\"no_remarks\",\"exchordid\":\"1300000009175007\",\"rqty\":\"1\"},{\"stat\":\"Ok\",\"norenordno\":\"23062100026265\",\"kidid\":\"1\",\"uid\":\"35660003\",\"actid\":\"35660003\",\"exch\":\"NSE\",\"tsym\":\"PEL-EQ\",\"qty\":\"1\",\"ordenttm\":\"1687324434\",\"trantype\":\"S\",\"prctyp\":\"SL-LMT\",\"ret\":\"DAY\",\"token\":\"2412\",\"mult\":\"1\",\"prcftr\":\"1.000000\",\"pp\":\"2\",\"ls\":\"1\",\"ti\":\"0.05\",\"prc\":\"840.15\",\"trgprc\":\"840.95\",\"rprc\":\"840.15\",\"dscqty\":\"0\",\"s_prdt_ali\":\"MIS\",\"prd\":\"I\",\"status\":\"TRIGGER_PENDING\",\"st_intrn\":\"TRIGGER_PENDING\",\"norentm\":\"10:43:54 21-06-2023\",\"exch_tm\":\"21-06-2023 10:43:54\",\"remarks\":\"no_remarks\",\"exchordid\":\"1200000009727475\",\"rqty\":\"1\"},{\"stat\":\"Ok\",\"norenordno\":\"23062100016128\",\"kidid\":\"2\",\"uid\":\"35660003\",\"actid\":\"35660003\",\"exch\":\"NSE\",\"tsym\":\"PEL-EQ\",\"qty\":\"1\",\"ordenttm\":\"1687323076\",\"trantype\":\"S\",\"prctyp\":\"SL-LMT\",\"ret\":\"DAY\",\"token\":\"2412\",\"mult\":\"1\",\"prcftr\":\"1.000000\",\"pp\":\"2\",\"ls\":\"1\",\"ti\":\"0.05\",\"prc\":\"840.15\",\"trgprc\":\"840.95\",\"rprc\":\"840.15\",\"rtrgprc\":\"840.95\",\"dscqty\":\"0\",\"s_prdt_ali\":\"MIS\",\"prd\":\"I\",\"status\":\"CANCELED\",\"st_intrn\":\"CANCELED\",\"norentm\":\"10:21:16 21-06-2023\",\"exch_tm\":\"21-06-2023 10:21:16\",\"remarks\":\"no_remarks\",\"exchordid\":\"1200000005792936\",\"cancelqty\":\"1\",\"rqty\":\"1\"},{\"stat\":\"Ok\",\"norenordno\":\"23062100016127\",\"kidid\":\"2\",\"uid\":\"35660003\",\"actid\":\"35660003\",\"exch\":\"NSE\",\"tsym\":\"SHRIRAMFIN-EQ\",\"qty\":\"1\",\"ordenttm\":\"1687323076\",\"trantype\":\"S\",\"prctyp\":\"SL-LMT\",\"ret\":\"DAY\",\"token\":\"4306\",\"mult\":\"1\",\"prcftr\":\"1.000000\",\"pp\":\"2\",\"ls\":\"1\",\"ti\":\"0.05\",\"prc\":\"1571.15\",\"trgprc\":\"1572.65\",\"rprc\":\"1571.15\",\"rtrgprc\":\"1572.65\",\"dscqty\":\"0\",\"s_prdt_ali\":\"MIS\",\"prd\":\"I\",\"status\":\"CANCELED\",\"st_intrn\":\"CANCELED\",\"norentm\":\"10:21:16 21-06-2023\",\"exch_tm\":\"21-06-2023 10:21:16\",\"remarks\":\"no_remarks\",\"exchordid\":\"1300000005527796\",\"cancelqty\":\"1\",\"rqty\":\"1\"},{\"stat\":\"Ok\",\"norenordno\":\"23062100013721\",\"kidid\":\"2\",\"uid\":\"35660003\",\"actid\":\"35660003\",\"exch\":\"NSE\",\"tsym\":\"SHRIRAMFIN-EQ\",\"qty\":\"1\",\"ordenttm\":\"1687323076\",\"trantype\":\"S\",\"prctyp\":\"SL-LMT\",\"ret\":\"DAY\",\"token\":\"4306\",\"mult\":\"1\",\"prcftr\":\"1.000000\",\"pp\":\"2\",\"ls\":\"1\",\"ti\":\"0.05\",\"prc\":\"1571.15\",\"trgprc\":\"1572.65\",\"rprc\":\"1571.15\",\"rtrgprc\":\"1572.65\",\"dscqty\":\"0\",\"s_prdt_ali\":\"MIS\",\"prd\":\"I\",\"status\":\"CANCELED\",\"st_intrn\":\"CANCELED\",\"norentm\":\"10:21:16 21-06-2023\",\"exch_tm\":\"21-06-2023 10:21:16\",\"remarks\":\"no_remarks\",\"exchordid\":\"1300000004612950\",\"cancelqty\":\"1\",\"rqty\":\"1\"},{\"stat\":\"Ok\",\"norenordno\":\"23062100013711\",\"kidid\":\"2\",\"uid\":\"35660003\",\"actid\":\"35660003\",\"exch\":\"NSE\",\"tsym\":\"PEL-EQ\",\"qty\":\"1\",\"ordenttm\":\"1687323076\",\"trantype\":\"S\",\"prctyp\":\"SL-LMT\",\"ret\":\"DAY\",\"token\":\"2412\",\"mult\":\"1\",\"prcftr\":\"1.000000\",\"pp\":\"2\",\"ls\":\"1\",\"ti\":\"0.05\",\"prc\":\"840.15\",\"trgprc\":\"840.95\",\"rprc\":\"840.15\",\"rtrgprc\":\"840.95\",\"dscqty\":\"0\",\"s_prdt_ali\":\"MIS\",\"prd\":\"I\",\"status\":\"CANCELED\",\"st_intrn\":\"CANCELED\",\"norentm\":\"10:21:16 21-06-2023\",\"exch_tm\":\"21-06-2023 10:21:16\",\"remarks\":\"no_remarks\",\"exchordid\":\"1200000004763482\",\"cancelqty\":\"1\",\"rqty\":\"1\"}]\n"
     ]
    }
   ],
   "source": [
    "import pandas as pd\n",
    "df = pd.DataFrame(pmart.orders)"
   ]
  },
  {
   "cell_type": "markdown",
   "metadata": {},
   "source": []
  },
  {
   "cell_type": "code",
   "execution_count": 19,
   "metadata": {},
   "outputs": [
    {
     "data": {
      "text/html": [
       "<div>\n",
       "<style scoped>\n",
       "    .dataframe tbody tr th:only-of-type {\n",
       "        vertical-align: middle;\n",
       "    }\n",
       "\n",
       "    .dataframe tbody tr th {\n",
       "        vertical-align: top;\n",
       "    }\n",
       "\n",
       "    .dataframe thead th {\n",
       "        text-align: right;\n",
       "    }\n",
       "</style>\n",
       "<table border=\"1\" class=\"dataframe\">\n",
       "  <thead>\n",
       "    <tr style=\"text-align: right;\">\n",
       "      <th></th>\n",
       "      <th>stat</th>\n",
       "      <th>order_id</th>\n",
       "      <th>kidid</th>\n",
       "      <th>uid</th>\n",
       "      <th>actid</th>\n",
       "      <th>exchange</th>\n",
       "      <th>symbol</th>\n",
       "      <th>quantity</th>\n",
       "      <th>ordenttm</th>\n",
       "      <th>side</th>\n",
       "      <th>...</th>\n",
       "      <th>st_intrn</th>\n",
       "      <th>broker_timestamp</th>\n",
       "      <th>exchange_timestamp</th>\n",
       "      <th>remarks</th>\n",
       "      <th>exchange_order_id</th>\n",
       "      <th>rqty</th>\n",
       "      <th>filled_quantity</th>\n",
       "      <th>average_price</th>\n",
       "      <th>rtrgprc</th>\n",
       "      <th>cancelqty</th>\n",
       "    </tr>\n",
       "  </thead>\n",
       "  <tbody>\n",
       "    <tr>\n",
       "      <th>0</th>\n",
       "      <td>Ok</td>\n",
       "      <td>23062100026266</td>\n",
       "      <td>1</td>\n",
       "      <td>35660003</td>\n",
       "      <td>35660003</td>\n",
       "      <td>NSE</td>\n",
       "      <td>SHRIRAMFIN-EQ</td>\n",
       "      <td>1</td>\n",
       "      <td>1687324434</td>\n",
       "      <td>S</td>\n",
       "      <td>...</td>\n",
       "      <td>TRIGGER_PENDING</td>\n",
       "      <td>2023-06-21T10:43:54+05:30</td>\n",
       "      <td>2023-06-21T10:43:54+05:30</td>\n",
       "      <td>no_remarks</td>\n",
       "      <td>1300000009175007</td>\n",
       "      <td>1</td>\n",
       "      <td>0</td>\n",
       "      <td>0.0</td>\n",
       "      <td>NaN</td>\n",
       "      <td>NaN</td>\n",
       "    </tr>\n",
       "    <tr>\n",
       "      <th>1</th>\n",
       "      <td>Ok</td>\n",
       "      <td>23062100026265</td>\n",
       "      <td>1</td>\n",
       "      <td>35660003</td>\n",
       "      <td>35660003</td>\n",
       "      <td>NSE</td>\n",
       "      <td>PEL-EQ</td>\n",
       "      <td>1</td>\n",
       "      <td>1687324434</td>\n",
       "      <td>S</td>\n",
       "      <td>...</td>\n",
       "      <td>TRIGGER_PENDING</td>\n",
       "      <td>2023-06-21T10:43:54+05:30</td>\n",
       "      <td>2023-06-21T10:43:54+05:30</td>\n",
       "      <td>no_remarks</td>\n",
       "      <td>1200000009727475</td>\n",
       "      <td>1</td>\n",
       "      <td>0</td>\n",
       "      <td>0.0</td>\n",
       "      <td>NaN</td>\n",
       "      <td>NaN</td>\n",
       "    </tr>\n",
       "    <tr>\n",
       "      <th>2</th>\n",
       "      <td>Ok</td>\n",
       "      <td>23062100016128</td>\n",
       "      <td>2</td>\n",
       "      <td>35660003</td>\n",
       "      <td>35660003</td>\n",
       "      <td>NSE</td>\n",
       "      <td>PEL-EQ</td>\n",
       "      <td>1</td>\n",
       "      <td>1687323076</td>\n",
       "      <td>S</td>\n",
       "      <td>...</td>\n",
       "      <td>CANCELED</td>\n",
       "      <td>2023-06-21T10:21:16+05:30</td>\n",
       "      <td>2023-06-21T10:21:16+05:30</td>\n",
       "      <td>no_remarks</td>\n",
       "      <td>1200000005792936</td>\n",
       "      <td>1</td>\n",
       "      <td>0</td>\n",
       "      <td>0.0</td>\n",
       "      <td>840.95</td>\n",
       "      <td>1</td>\n",
       "    </tr>\n",
       "    <tr>\n",
       "      <th>3</th>\n",
       "      <td>Ok</td>\n",
       "      <td>23062100016127</td>\n",
       "      <td>2</td>\n",
       "      <td>35660003</td>\n",
       "      <td>35660003</td>\n",
       "      <td>NSE</td>\n",
       "      <td>SHRIRAMFIN-EQ</td>\n",
       "      <td>1</td>\n",
       "      <td>1687323076</td>\n",
       "      <td>S</td>\n",
       "      <td>...</td>\n",
       "      <td>CANCELED</td>\n",
       "      <td>2023-06-21T10:21:16+05:30</td>\n",
       "      <td>2023-06-21T10:21:16+05:30</td>\n",
       "      <td>no_remarks</td>\n",
       "      <td>1300000005527796</td>\n",
       "      <td>1</td>\n",
       "      <td>0</td>\n",
       "      <td>0.0</td>\n",
       "      <td>1572.65</td>\n",
       "      <td>1</td>\n",
       "    </tr>\n",
       "    <tr>\n",
       "      <th>4</th>\n",
       "      <td>Ok</td>\n",
       "      <td>23062100013721</td>\n",
       "      <td>2</td>\n",
       "      <td>35660003</td>\n",
       "      <td>35660003</td>\n",
       "      <td>NSE</td>\n",
       "      <td>SHRIRAMFIN-EQ</td>\n",
       "      <td>1</td>\n",
       "      <td>1687323076</td>\n",
       "      <td>S</td>\n",
       "      <td>...</td>\n",
       "      <td>CANCELED</td>\n",
       "      <td>2023-06-21T10:21:16+05:30</td>\n",
       "      <td>2023-06-21T10:21:16+05:30</td>\n",
       "      <td>no_remarks</td>\n",
       "      <td>1300000004612950</td>\n",
       "      <td>1</td>\n",
       "      <td>0</td>\n",
       "      <td>0.0</td>\n",
       "      <td>1572.65</td>\n",
       "      <td>1</td>\n",
       "    </tr>\n",
       "    <tr>\n",
       "      <th>5</th>\n",
       "      <td>Ok</td>\n",
       "      <td>23062100013711</td>\n",
       "      <td>2</td>\n",
       "      <td>35660003</td>\n",
       "      <td>35660003</td>\n",
       "      <td>NSE</td>\n",
       "      <td>PEL-EQ</td>\n",
       "      <td>1</td>\n",
       "      <td>1687323076</td>\n",
       "      <td>S</td>\n",
       "      <td>...</td>\n",
       "      <td>CANCELED</td>\n",
       "      <td>2023-06-21T10:21:16+05:30</td>\n",
       "      <td>2023-06-21T10:21:16+05:30</td>\n",
       "      <td>no_remarks</td>\n",
       "      <td>1200000004763482</td>\n",
       "      <td>1</td>\n",
       "      <td>0</td>\n",
       "      <td>0.0</td>\n",
       "      <td>840.95</td>\n",
       "      <td>1</td>\n",
       "    </tr>\n",
       "  </tbody>\n",
       "</table>\n",
       "<p>6 rows × 35 columns</p>\n",
       "</div>"
      ],
      "text/plain": [
       "  stat        order_id kidid       uid     actid exchange         symbol  \\\n",
       "0   Ok  23062100026266     1  35660003  35660003      NSE  SHRIRAMFIN-EQ   \n",
       "1   Ok  23062100026265     1  35660003  35660003      NSE         PEL-EQ   \n",
       "2   Ok  23062100016128     2  35660003  35660003      NSE         PEL-EQ   \n",
       "3   Ok  23062100016127     2  35660003  35660003      NSE  SHRIRAMFIN-EQ   \n",
       "4   Ok  23062100013721     2  35660003  35660003      NSE  SHRIRAMFIN-EQ   \n",
       "5   Ok  23062100013711     2  35660003  35660003      NSE         PEL-EQ   \n",
       "\n",
       "   quantity    ordenttm side  ...         st_intrn           broker_timestamp  \\\n",
       "0         1  1687324434    S  ...  TRIGGER_PENDING  2023-06-21T10:43:54+05:30   \n",
       "1         1  1687324434    S  ...  TRIGGER_PENDING  2023-06-21T10:43:54+05:30   \n",
       "2         1  1687323076    S  ...         CANCELED  2023-06-21T10:21:16+05:30   \n",
       "3         1  1687323076    S  ...         CANCELED  2023-06-21T10:21:16+05:30   \n",
       "4         1  1687323076    S  ...         CANCELED  2023-06-21T10:21:16+05:30   \n",
       "5         1  1687323076    S  ...         CANCELED  2023-06-21T10:21:16+05:30   \n",
       "\n",
       "          exchange_timestamp     remarks exchange_order_id rqty  \\\n",
       "0  2023-06-21T10:43:54+05:30  no_remarks  1300000009175007    1   \n",
       "1  2023-06-21T10:43:54+05:30  no_remarks  1200000009727475    1   \n",
       "2  2023-06-21T10:21:16+05:30  no_remarks  1200000005792936    1   \n",
       "3  2023-06-21T10:21:16+05:30  no_remarks  1300000005527796    1   \n",
       "4  2023-06-21T10:21:16+05:30  no_remarks  1300000004612950    1   \n",
       "5  2023-06-21T10:21:16+05:30  no_remarks  1200000004763482    1   \n",
       "\n",
       "  filled_quantity average_price  rtrgprc  cancelqty  \n",
       "0               0           0.0      NaN        NaN  \n",
       "1               0           0.0      NaN        NaN  \n",
       "2               0           0.0   840.95          1  \n",
       "3               0           0.0  1572.65          1  \n",
       "4               0           0.0  1572.65          1  \n",
       "5               0           0.0   840.95          1  \n",
       "\n",
       "[6 rows x 35 columns]"
      ]
     },
     "execution_count": 19,
     "metadata": {},
     "output_type": "execute_result"
    }
   ],
   "source": [
    "df"
   ]
  },
  {
   "cell_type": "code",
   "execution_count": 17,
   "metadata": {},
   "outputs": [
    {
     "data": {
      "text/plain": [
       "'TRIGGER_PENDING'"
      ]
     },
     "execution_count": 17,
     "metadata": {},
     "output_type": "execute_result"
    }
   ],
   "source": [
    "df[df.order_id=='23062100026266']['status'].values[0]"
   ]
  },
  {
   "cell_type": "code",
   "execution_count": 15,
   "metadata": {},
   "outputs": [],
   "source": [
    "if df[df.order_id=='23062100026266']['status'].values[0] == \"REJECTED\":\n",
    "    print(\"hello\")"
   ]
  },
  {
   "cell_type": "code",
   "execution_count": 10,
   "metadata": {},
   "outputs": [
    {
     "data": {
      "text/plain": [
       "0    TRIGGER_PENDING\n",
       "Name: status, dtype: object"
      ]
     },
     "execution_count": 10,
     "metadata": {},
     "output_type": "execute_result"
    }
   ],
   "source": [
    "df[df.order_id=='23062100026266']['status']"
   ]
  },
  {
   "cell_type": "code",
   "execution_count": 2,
   "metadata": {},
   "outputs": [
    {
     "name": "stderr",
     "output_type": "stream",
     "text": [
      "DEBUG:NorenRestApiPy.NorenApi:https://profitmax.profitmart.in/NorenWClientTP/OrderBook\n",
      "DEBUG:NorenRestApiPy.NorenApi:jData={\"ordersource\": \"API\", \"uid\": \"35660003\"}&jKey=1a23d090d3061507cc3c4c27ae4f97f5b4aca5678b417c46cd397a040af59895\n",
      "DEBUG:urllib3.connectionpool:Starting new HTTPS connection (1): profitmax.profitmart.in:443\n",
      "DEBUG:urllib3.connectionpool:https://profitmax.profitmart.in:443 \"POST /NorenWClientTP/OrderBook HTTP/1.1\" 200 3429\n",
      "DEBUG:NorenRestApiPy.NorenApi:[{\"stat\":\"Ok\",\"norenordno\":\"23062100026266\",\"kidid\":\"1\",\"uid\":\"35660003\",\"actid\":\"35660003\",\"exch\":\"NSE\",\"tsym\":\"SHRIRAMFIN-EQ\",\"qty\":\"1\",\"ordenttm\":\"1687324434\",\"trantype\":\"S\",\"prctyp\":\"SL-LMT\",\"ret\":\"DAY\",\"token\":\"4306\",\"mult\":\"1\",\"prcftr\":\"1.000000\",\"pp\":\"2\",\"ls\":\"1\",\"ti\":\"0.05\",\"prc\":\"1571.15\",\"trgprc\":\"1572.65\",\"rprc\":\"1571.15\",\"dscqty\":\"0\",\"s_prdt_ali\":\"MIS\",\"prd\":\"I\",\"status\":\"TRIGGER_PENDING\",\"st_intrn\":\"TRIGGER_PENDING\",\"norentm\":\"10:43:54 21-06-2023\",\"exch_tm\":\"21-06-2023 10:43:54\",\"remarks\":\"no_remarks\",\"exchordid\":\"1300000009175007\",\"rqty\":\"1\"},{\"stat\":\"Ok\",\"norenordno\":\"23062100026265\",\"kidid\":\"1\",\"uid\":\"35660003\",\"actid\":\"35660003\",\"exch\":\"NSE\",\"tsym\":\"PEL-EQ\",\"qty\":\"1\",\"ordenttm\":\"1687324434\",\"trantype\":\"S\",\"prctyp\":\"SL-LMT\",\"ret\":\"DAY\",\"token\":\"2412\",\"mult\":\"1\",\"prcftr\":\"1.000000\",\"pp\":\"2\",\"ls\":\"1\",\"ti\":\"0.05\",\"prc\":\"840.15\",\"trgprc\":\"840.95\",\"rprc\":\"840.15\",\"dscqty\":\"0\",\"s_prdt_ali\":\"MIS\",\"prd\":\"I\",\"status\":\"TRIGGER_PENDING\",\"st_intrn\":\"TRIGGER_PENDING\",\"norentm\":\"10:43:54 21-06-2023\",\"exch_tm\":\"21-06-2023 10:43:54\",\"remarks\":\"no_remarks\",\"exchordid\":\"1200000009727475\",\"rqty\":\"1\"},{\"stat\":\"Ok\",\"norenordno\":\"23062100016128\",\"kidid\":\"2\",\"uid\":\"35660003\",\"actid\":\"35660003\",\"exch\":\"NSE\",\"tsym\":\"PEL-EQ\",\"qty\":\"1\",\"ordenttm\":\"1687323076\",\"trantype\":\"S\",\"prctyp\":\"SL-LMT\",\"ret\":\"DAY\",\"token\":\"2412\",\"mult\":\"1\",\"prcftr\":\"1.000000\",\"pp\":\"2\",\"ls\":\"1\",\"ti\":\"0.05\",\"prc\":\"840.15\",\"trgprc\":\"840.95\",\"rprc\":\"840.15\",\"rtrgprc\":\"840.95\",\"dscqty\":\"0\",\"s_prdt_ali\":\"MIS\",\"prd\":\"I\",\"status\":\"CANCELED\",\"st_intrn\":\"CANCELED\",\"norentm\":\"10:21:16 21-06-2023\",\"exch_tm\":\"21-06-2023 10:21:16\",\"remarks\":\"no_remarks\",\"exchordid\":\"1200000005792936\",\"cancelqty\":\"1\",\"rqty\":\"1\"},{\"stat\":\"Ok\",\"norenordno\":\"23062100016127\",\"kidid\":\"2\",\"uid\":\"35660003\",\"actid\":\"35660003\",\"exch\":\"NSE\",\"tsym\":\"SHRIRAMFIN-EQ\",\"qty\":\"1\",\"ordenttm\":\"1687323076\",\"trantype\":\"S\",\"prctyp\":\"SL-LMT\",\"ret\":\"DAY\",\"token\":\"4306\",\"mult\":\"1\",\"prcftr\":\"1.000000\",\"pp\":\"2\",\"ls\":\"1\",\"ti\":\"0.05\",\"prc\":\"1571.15\",\"trgprc\":\"1572.65\",\"rprc\":\"1571.15\",\"rtrgprc\":\"1572.65\",\"dscqty\":\"0\",\"s_prdt_ali\":\"MIS\",\"prd\":\"I\",\"status\":\"CANCELED\",\"st_intrn\":\"CANCELED\",\"norentm\":\"10:21:16 21-06-2023\",\"exch_tm\":\"21-06-2023 10:21:16\",\"remarks\":\"no_remarks\",\"exchordid\":\"1300000005527796\",\"cancelqty\":\"1\",\"rqty\":\"1\"},{\"stat\":\"Ok\",\"norenordno\":\"23062100013721\",\"kidid\":\"2\",\"uid\":\"35660003\",\"actid\":\"35660003\",\"exch\":\"NSE\",\"tsym\":\"SHRIRAMFIN-EQ\",\"qty\":\"1\",\"ordenttm\":\"1687323076\",\"trantype\":\"S\",\"prctyp\":\"SL-LMT\",\"ret\":\"DAY\",\"token\":\"4306\",\"mult\":\"1\",\"prcftr\":\"1.000000\",\"pp\":\"2\",\"ls\":\"1\",\"ti\":\"0.05\",\"prc\":\"1571.15\",\"trgprc\":\"1572.65\",\"rprc\":\"1571.15\",\"rtrgprc\":\"1572.65\",\"dscqty\":\"0\",\"s_prdt_ali\":\"MIS\",\"prd\":\"I\",\"status\":\"CANCELED\",\"st_intrn\":\"CANCELED\",\"norentm\":\"10:21:16 21-06-2023\",\"exch_tm\":\"21-06-2023 10:21:16\",\"remarks\":\"no_remarks\",\"exchordid\":\"1300000004612950\",\"cancelqty\":\"1\",\"rqty\":\"1\"},{\"stat\":\"Ok\",\"norenordno\":\"23062100013711\",\"kidid\":\"2\",\"uid\":\"35660003\",\"actid\":\"35660003\",\"exch\":\"NSE\",\"tsym\":\"PEL-EQ\",\"qty\":\"1\",\"ordenttm\":\"1687323076\",\"trantype\":\"S\",\"prctyp\":\"SL-LMT\",\"ret\":\"DAY\",\"token\":\"2412\",\"mult\":\"1\",\"prcftr\":\"1.000000\",\"pp\":\"2\",\"ls\":\"1\",\"ti\":\"0.05\",\"prc\":\"840.15\",\"trgprc\":\"840.95\",\"rprc\":\"840.15\",\"rtrgprc\":\"840.95\",\"dscqty\":\"0\",\"s_prdt_ali\":\"MIS\",\"prd\":\"I\",\"status\":\"CANCELED\",\"st_intrn\":\"CANCELED\",\"norentm\":\"10:21:16 21-06-2023\",\"exch_tm\":\"21-06-2023 10:21:16\",\"remarks\":\"no_remarks\",\"exchordid\":\"1200000004763482\",\"cancelqty\":\"1\",\"rqty\":\"1\"}]\n"
     ]
    }
   ],
   "source": [
    "if orders[orders.order_id==entry_order_id]['status'] == \"REJECTED\":"
   ]
  },
  {
   "cell_type": "markdown",
   "metadata": {},
   "source": []
  },
  {
   "cell_type": "code",
   "execution_count": 3,
   "metadata": {},
   "outputs": [
    {
     "ename": "NameError",
     "evalue": "name 'pd' is not defined",
     "output_type": "error",
     "traceback": [
      "\u001b[1;31m---------------------------------------------------------------------------\u001b[0m",
      "\u001b[1;31mNameError\u001b[0m                                 Traceback (most recent call last)",
      "\u001b[1;32m<ipython-input-3-8691406edb3d>\u001b[0m in \u001b[0;36m<module>\u001b[1;34m\u001b[0m\n\u001b[1;32m----> 1\u001b[1;33m \u001b[0mpd\u001b[0m\u001b[1;33m.\u001b[0m\u001b[0mDataFrame\u001b[0m\u001b[1;33m(\u001b[0m\u001b[0mpmart\u001b[0m\u001b[1;33m.\u001b[0m\u001b[0morders\u001b[0m\u001b[1;33m)\u001b[0m\u001b[1;33m\u001b[0m\u001b[1;33m\u001b[0m\u001b[0m\n\u001b[0m",
      "\u001b[1;31mNameError\u001b[0m: name 'pd' is not defined"
     ]
    }
   ],
   "source": [
    "pd.DataFrame(pmart.orders)"
   ]
  },
  {
   "cell_type": "code",
   "execution_count": null,
   "metadata": {},
   "outputs": [],
   "source": []
  }
 ],
 "metadata": {
  "kernelspec": {
   "display_name": "NSE_price_prediction",
   "language": "python",
   "name": "python3"
  },
  "language_info": {
   "codemirror_mode": {
    "name": "ipython",
    "version": 3
   },
   "file_extension": ".py",
   "mimetype": "text/x-python",
   "name": "python",
   "nbconvert_exporter": "python",
   "pygments_lexer": "ipython3",
   "version": "3.8.12"
  },
  "orig_nbformat": 4
 },
 "nbformat": 4,
 "nbformat_minor": 2
}
