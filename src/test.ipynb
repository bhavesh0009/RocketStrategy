{
 "cells": [
  {
   "cell_type": "code",
   "execution_count": 31,
   "metadata": {},
   "outputs": [
    {
     "name": "stdout",
     "output_type": "stream",
     "text": [
      "[*********************100%***********************]  1 of 1 completed\n",
      "[*********************100%***********************]  1 of 1 completed\n",
      "[*********************100%***********************]  1 of 1 completed\n",
      "[*********************100%***********************]  1 of 1 completed\n",
      "[*********************100%***********************]  1 of 1 completed\n"
     ]
    }
   ],
   "source": [
    "import yfinance as yf\n",
    "import pandas as pd\n",
    "from datetime import date, timedelta\n",
    "import os \n",
    "import yaml\n",
    "import time\n",
    "\n",
    "# Step 1: Read the stock symbols from universe.csv\n",
    "root_dir = os.path.dirname(os.getcwd())\n",
    "# Construct the absolute path to the universe.csv file\n",
    "csv_path = os.path.join(root_dir, 'data', 'universe.csv')\n",
    "# Read the universe.csv file\n",
    "universe_df = pd.read_csv(csv_path)\n",
    "stock_symbols = universe_df['Symbol'].tolist()\n",
    "\n",
    "# Read the threshold values from the YAML file\n",
    "yaml_path = os.path.join(root_dir, 'config', 'config.yaml')\n",
    "with open(yaml_path, 'r') as yaml_file:\n",
    "    config = yaml.safe_load(yaml_file)\n",
    "threshold_positive = config['threshold_positive']\n",
    "threshold_negative = config['threshold_negative']\n",
    "\n",
    "# Step 2: Screen stocks and calculate pivots\n",
    "short_listed_stocks = {}\n",
    "# Get the root directory of the project\n",
    "\n",
    "# Loop through stock symbols\n",
    "for symbol in stock_symbols[:5]:\n",
    "    # Append \".NS\" to symbol\n",
    "    symbol_ns = symbol + \".NS\"\n",
    "\n",
    "    # Step 2.ii: Fetch data from yfinance\n",
    "    end_date = date.today() - timedelta(days=1)  # Get previous day's OHLC\n",
    "    start_date = end_date - timedelta(days=7)  # Get data for the last 7 days\n",
    "    stock_data = yf.download(symbol_ns, start=start_date, end=end_date)\n",
    "\n",
    "    # Step 2.iii: Calculate % return for each day\n",
    "    stock_data['Prev Close'] = stock_data['Close'].shift(1)\n",
    "    stock_data['% Return'] = (stock_data['Close'] - stock_data['Prev Close']) / stock_data['Prev Close'] * 100\n",
    "\n",
    "    # Step 2.iv: Check for gain or loss and update short_listed_stocks\n",
    "    if stock_data['% Return'].iloc[-1] > threshold_positive:\n",
    "        short_listed_stocks[symbol] = 1\n",
    "    elif stock_data['% Return'].iloc[-1] < threshold_negative:\n",
    "        short_listed_stocks[symbol] = -1\n",
    "\n",
    "    # Step 2.vi: Calculate pivots\n",
    "    prev_high = stock_data['High'].iloc[-2]\n",
    "    prev_low = stock_data['Low'].iloc[-2]\n",
    "    prev_close = stock_data['Close'].iloc[-2]\n",
    "    pivot = (prev_high + prev_low + prev_close) / 3\n",
    "    res1 = 2 * pivot - prev_low\n",
    "    res2 = pivot + (res1 - (2 * pivot - prev_high))\n",
    "    res3 = prev_high + 2 * (pivot - prev_low)\n",
    "    sup1 = 2 * pivot - prev_high\n",
    "    sup2 = pivot - (res1 - sup1)\n",
    "    sup3 = prev_low - 2 * (prev_high - pivot)\n",
    "\n",
    "    # Step 2.vii: Append pivot points to short_listed_stocks\n",
    "    if symbol in short_listed_stocks:\n",
    "        short_listed_stocks[symbol] = {}  # Initialize the dictionary for the symbol\n",
    "        short_listed_stocks[symbol]['PIVOT'] = pivot\n",
    "        short_listed_stocks[symbol]['RES1'] = res1\n",
    "        short_listed_stocks[symbol]['RES2'] = res2\n",
    "        short_listed_stocks[symbol]['RES3'] = res3\n",
    "        short_listed_stocks[symbol]['SUP1'] = sup1\n",
    "        short_listed_stocks[symbol]['SUP2'] = sup2\n",
    "        short_listed_stocks[symbol]['SUP3'] = sup3\n",
    "    time.sleep(0.5)"
   ]
  },
  {
   "cell_type": "code",
   "execution_count": 33,
   "metadata": {},
   "outputs": [
    {
     "data": {
      "text/html": [
       "<div>\n",
       "<style scoped>\n",
       "    .dataframe tbody tr th:only-of-type {\n",
       "        vertical-align: middle;\n",
       "    }\n",
       "\n",
       "    .dataframe tbody tr th {\n",
       "        vertical-align: top;\n",
       "    }\n",
       "\n",
       "    .dataframe thead th {\n",
       "        text-align: right;\n",
       "    }\n",
       "</style>\n",
       "<table border=\"1\" class=\"dataframe\">\n",
       "  <thead>\n",
       "    <tr style=\"text-align: right;\">\n",
       "      <th></th>\n",
       "      <th>ABB</th>\n",
       "      <th>ABBOTINDIA</th>\n",
       "      <th>ADANIENT</th>\n",
       "    </tr>\n",
       "  </thead>\n",
       "  <tbody>\n",
       "    <tr>\n",
       "      <th>PIVOT</th>\n",
       "      <td>4007.149984</td>\n",
       "      <td>21680.783203</td>\n",
       "      <td>2512.483317</td>\n",
       "    </tr>\n",
       "    <tr>\n",
       "      <th>RES1</th>\n",
       "      <td>4077.499919</td>\n",
       "      <td>21811.566406</td>\n",
       "      <td>2539.666585</td>\n",
       "    </tr>\n",
       "    <tr>\n",
       "      <th>RES2</th>\n",
       "      <td>4210.349935</td>\n",
       "      <td>22020.482422</td>\n",
       "      <td>2587.183268</td>\n",
       "    </tr>\n",
       "    <tr>\n",
       "      <th>RES3</th>\n",
       "      <td>4280.699870</td>\n",
       "      <td>22151.265625</td>\n",
       "      <td>2614.366536</td>\n",
       "    </tr>\n",
       "    <tr>\n",
       "      <th>SUP1</th>\n",
       "      <td>3874.299967</td>\n",
       "      <td>21471.867188</td>\n",
       "      <td>2464.966634</td>\n",
       "    </tr>\n",
       "    <tr>\n",
       "      <th>SUP2</th>\n",
       "      <td>3803.950033</td>\n",
       "      <td>21341.083984</td>\n",
       "      <td>2437.783366</td>\n",
       "    </tr>\n",
       "    <tr>\n",
       "      <th>SUP3</th>\n",
       "      <td>3671.100016</td>\n",
       "      <td>21132.167969</td>\n",
       "      <td>2390.266683</td>\n",
       "    </tr>\n",
       "  </tbody>\n",
       "</table>\n",
       "</div>"
      ],
      "text/plain": [
       "               ABB    ABBOTINDIA     ADANIENT\n",
       "PIVOT  4007.149984  21680.783203  2512.483317\n",
       "RES1   4077.499919  21811.566406  2539.666585\n",
       "RES2   4210.349935  22020.482422  2587.183268\n",
       "RES3   4280.699870  22151.265625  2614.366536\n",
       "SUP1   3874.299967  21471.867188  2464.966634\n",
       "SUP2   3803.950033  21341.083984  2437.783366\n",
       "SUP3   3671.100016  21132.167969  2390.266683"
      ]
     },
     "execution_count": 33,
     "metadata": {},
     "output_type": "execute_result"
    }
   ],
   "source": [
    "pd.DataFrame(short_listed_stocks)"
   ]
  },
  {
   "cell_type": "code",
   "execution_count": 18,
   "metadata": {},
   "outputs": [
    {
     "data": {
      "text/plain": [
       "datetime.date(2023, 5, 27)"
      ]
     },
     "execution_count": 18,
     "metadata": {},
     "output_type": "execute_result"
    }
   ],
   "source": [
    "start_date"
   ]
  },
  {
   "cell_type": "code",
   "execution_count": 19,
   "metadata": {},
   "outputs": [
    {
     "data": {
      "text/plain": [
       "datetime.date(2023, 6, 3)"
      ]
     },
     "execution_count": 19,
     "metadata": {},
     "output_type": "execute_result"
    }
   ],
   "source": [
    "end_date"
   ]
  },
  {
   "cell_type": "code",
   "execution_count": 20,
   "metadata": {},
   "outputs": [
    {
     "data": {
      "text/html": [
       "<div>\n",
       "<style scoped>\n",
       "    .dataframe tbody tr th:only-of-type {\n",
       "        vertical-align: middle;\n",
       "    }\n",
       "\n",
       "    .dataframe tbody tr th {\n",
       "        vertical-align: top;\n",
       "    }\n",
       "\n",
       "    .dataframe thead th {\n",
       "        text-align: right;\n",
       "    }\n",
       "</style>\n",
       "<table border=\"1\" class=\"dataframe\">\n",
       "  <thead>\n",
       "    <tr style=\"text-align: right;\">\n",
       "      <th></th>\n",
       "      <th>Open</th>\n",
       "      <th>High</th>\n",
       "      <th>Low</th>\n",
       "      <th>Close</th>\n",
       "      <th>Adj Close</th>\n",
       "      <th>Volume</th>\n",
       "      <th>Prev Close</th>\n",
       "      <th>% Return</th>\n",
       "    </tr>\n",
       "    <tr>\n",
       "      <th>Date</th>\n",
       "      <th></th>\n",
       "      <th></th>\n",
       "      <th></th>\n",
       "      <th></th>\n",
       "      <th></th>\n",
       "      <th></th>\n",
       "      <th></th>\n",
       "      <th></th>\n",
       "    </tr>\n",
       "  </thead>\n",
       "  <tbody>\n",
       "    <tr>\n",
       "      <th>2023-05-29</th>\n",
       "      <td>2570.000000</td>\n",
       "      <td>2583.500000</td>\n",
       "      <td>2523.000000</td>\n",
       "      <td>2534.050049</td>\n",
       "      <td>2534.050049</td>\n",
       "      <td>2779432</td>\n",
       "      <td>NaN</td>\n",
       "      <td>NaN</td>\n",
       "    </tr>\n",
       "    <tr>\n",
       "      <th>2023-05-30</th>\n",
       "      <td>2529.300049</td>\n",
       "      <td>2554.149902</td>\n",
       "      <td>2475.149902</td>\n",
       "      <td>2496.449951</td>\n",
       "      <td>2496.449951</td>\n",
       "      <td>1736953</td>\n",
       "      <td>2534.050049</td>\n",
       "      <td>-1.483795</td>\n",
       "    </tr>\n",
       "    <tr>\n",
       "      <th>2023-05-31</th>\n",
       "      <td>2482.000000</td>\n",
       "      <td>2573.000000</td>\n",
       "      <td>2428.000000</td>\n",
       "      <td>2493.350098</td>\n",
       "      <td>2493.350098</td>\n",
       "      <td>4268439</td>\n",
       "      <td>2496.449951</td>\n",
       "      <td>-0.124170</td>\n",
       "    </tr>\n",
       "    <tr>\n",
       "      <th>2023-06-01</th>\n",
       "      <td>2499.899902</td>\n",
       "      <td>2560.000000</td>\n",
       "      <td>2485.300049</td>\n",
       "      <td>2492.149902</td>\n",
       "      <td>2492.149902</td>\n",
       "      <td>1704946</td>\n",
       "      <td>2493.350098</td>\n",
       "      <td>-0.048136</td>\n",
       "    </tr>\n",
       "    <tr>\n",
       "      <th>2023-06-02</th>\n",
       "      <td>2535.000000</td>\n",
       "      <td>2538.899902</td>\n",
       "      <td>2425.000000</td>\n",
       "      <td>2445.050049</td>\n",
       "      <td>2445.050049</td>\n",
       "      <td>5543791</td>\n",
       "      <td>2492.149902</td>\n",
       "      <td>-1.889929</td>\n",
       "    </tr>\n",
       "  </tbody>\n",
       "</table>\n",
       "</div>"
      ],
      "text/plain": [
       "                   Open         High          Low        Close    Adj Close  \\\n",
       "Date                                                                          \n",
       "2023-05-29  2570.000000  2583.500000  2523.000000  2534.050049  2534.050049   \n",
       "2023-05-30  2529.300049  2554.149902  2475.149902  2496.449951  2496.449951   \n",
       "2023-05-31  2482.000000  2573.000000  2428.000000  2493.350098  2493.350098   \n",
       "2023-06-01  2499.899902  2560.000000  2485.300049  2492.149902  2492.149902   \n",
       "2023-06-02  2535.000000  2538.899902  2425.000000  2445.050049  2445.050049   \n",
       "\n",
       "             Volume   Prev Close  % Return  \n",
       "Date                                        \n",
       "2023-05-29  2779432          NaN       NaN  \n",
       "2023-05-30  1736953  2534.050049 -1.483795  \n",
       "2023-05-31  4268439  2496.449951 -0.124170  \n",
       "2023-06-01  1704946  2493.350098 -0.048136  \n",
       "2023-06-02  5543791  2492.149902 -1.889929  "
      ]
     },
     "execution_count": 20,
     "metadata": {},
     "output_type": "execute_result"
    }
   ],
   "source": [
    "stock_data"
   ]
  },
  {
   "cell_type": "code",
   "execution_count": 21,
   "metadata": {},
   "outputs": [
    {
     "data": {
      "text/plain": [
       "-1.8899285902236378"
      ]
     },
     "execution_count": 21,
     "metadata": {},
     "output_type": "execute_result"
    }
   ],
   "source": [
    "stock_data['% Return'].iloc[-1]"
   ]
  },
  {
   "cell_type": "code",
   "execution_count": 42,
   "metadata": {},
   "outputs": [
    {
     "name": "stdout",
     "output_type": "stream",
     "text": [
      "[*********************100%***********************]  1 of 1 completed"
     ]
    },
    {
     "name": "stderr",
     "output_type": "stream",
     "text": [
      "2023-06-04 17:36:26,395 - ERROR - Error occurred for stock: ABB. Error message: list index out of range\n"
     ]
    },
    {
     "name": "stdout",
     "output_type": "stream",
     "text": [
      "\n",
      "[*********************100%***********************]  1 of 1 completed"
     ]
    },
    {
     "name": "stderr",
     "output_type": "stream",
     "text": [
      "2023-06-04 17:36:26,786 - ERROR - Error occurred for stock: ACC. Error message: list index out of range\n"
     ]
    },
    {
     "name": "stdout",
     "output_type": "stream",
     "text": [
      "\n",
      "[*********************100%***********************]  1 of 1 completed"
     ]
    },
    {
     "name": "stderr",
     "output_type": "stream",
     "text": [
      "2023-06-04 17:36:27,167 - ERROR - Error occurred for stock: AUBANK. Error message: list index out of range\n"
     ]
    },
    {
     "name": "stdout",
     "output_type": "stream",
     "text": [
      "\n",
      "[*********************100%***********************]  1 of 1 completed"
     ]
    },
    {
     "name": "stderr",
     "output_type": "stream",
     "text": [
      "2023-06-04 17:36:27,545 - ERROR - Error occurred for stock: ABBOTINDIA. Error message: list index out of range\n"
     ]
    },
    {
     "name": "stdout",
     "output_type": "stream",
     "text": [
      "\n",
      "[*********************100%***********************]  1 of 1 completed"
     ]
    },
    {
     "name": "stderr",
     "output_type": "stream",
     "text": [
      "2023-06-04 17:36:27,943 - ERROR - Error occurred for stock: ADANIENT. Error message: list index out of range\n"
     ]
    },
    {
     "name": "stdout",
     "output_type": "stream",
     "text": [
      "\n",
      "[*********************100%***********************]  1 of 1 completed"
     ]
    },
    {
     "name": "stderr",
     "output_type": "stream",
     "text": [
      "2023-06-04 17:36:28,291 - ERROR - Error occurred for stock: ADANIGREEN. Error message: list index out of range\n"
     ]
    },
    {
     "name": "stdout",
     "output_type": "stream",
     "text": [
      "\n"
     ]
    }
   ],
   "source": [
    "import yfinance as yf\n",
    "import pandas as pd\n",
    "from datetime import date, timedelta\n",
    "import os \n",
    "import yaml\n",
    "import time\n",
    "import logging\n",
    "\n",
    "# Configure logging\n",
    "logging.basicConfig(level=logging.INFO, format='%(asctime)s - %(levelname)s - %(message)s')\n",
    "logging.basicConfig(level=logging.ERROR,\n",
    "                    format='[%(levelname)s] %(message)s (%(filename)s:%(lineno)d)',\n",
    "                    handlers=[logging.StreamHandler()])\n",
    "logger = logging.getLogger()\n",
    "logger.showLineNumber = True\n",
    "\n",
    "# Disable logs from yfinance module\n",
    "logging.getLogger(\"yfinance\").setLevel(logging.WARNING)\n",
    "\n",
    "# Step 1: Read the stock symbols from universe.csv\n",
    "root_dir = os.path.dirname(os.getcwd())\n",
    "# Construct the absolute path to the universe.csv file\n",
    "csv_path = os.path.join(root_dir, 'data', 'universe.csv')\n",
    "# Read the universe.csv file\n",
    "universe_df = pd.read_csv(csv_path)\n",
    "stock_symbols = universe_df['Symbol'].tolist()\n",
    "\n",
    "# Read the threshold values from the YAML file\n",
    "yaml_path = os.path.join(root_dir, 'config', 'config.yaml')\n",
    "with open(yaml_path, 'r') as yaml_file:\n",
    "    config = yaml.safe_load(yaml_file)\n",
    "threshold_positive = config['threshold_positive']\n",
    "threshold_negative = config['threshold_negative']\n",
    "\n",
    "# Step 2: Screen stocks and calculate pivots\n",
    "short_listed_stocks = []\n",
    "# Get the root directory of the project\n",
    "\n",
    "# Loop through stock symbols\n",
    "for symbol in stock_symbols:\n",
    "    # Append \".NS\" to symbol\n",
    "    symbol_ns = symbol + \".NS\"\n",
    "\n",
    "    try:\n",
    "        # Step 2.ii: Fetch data from yfinance\n",
    "        end_date = date.today() - timedelta(days=1)  # Get previous day's OHLC\n",
    "        start_date = end_date - timedelta(days=7)  # Get data for the last 7 days\n",
    "        stock_data = yf.download(symbol_ns, start=start_date, end=end_date)\n",
    "\n",
    "        # Check if data is available for the stock\n",
    "        if stock_data.empty:\n",
    "            logging.warning(f\"No data available for stock: {symbol}\")\n",
    "            continue\n",
    "\n",
    "        # Step 2.iii: Calculate % return for each day\n",
    "        stock_data['Prev Close'] = stock_data['Close'].shift(1)\n",
    "        stock_data['% Return'] = (stock_data['Close'] - stock_data['Prev Close']) / stock_data['Prev Close'] * 100\n",
    "\n",
    "        # Step 2.iv: Check for gain or loss and update short_listed_stocks\n",
    "        if stock_data['% Return'].iloc[-1] > threshold_positive:\n",
    "            short_listed_stocks.append({'symbol': symbol, 'flag': 1, 'percent_return': stock_data['% Return'].iloc[-1]})\n",
    "        elif stock_data['% Return'].iloc[-1] < threshold_negative:\n",
    "            short_listed_stocks.append({'symbol': symbol, 'flag': -1, 'percent_return': stock_data['% Return'].iloc[-1]})\n",
    "\n",
    "        # Step 2.vi: Calculate pivots\n",
    "        prev_high = stock_data['High'].iloc[-2]\n",
    "        prev_low = stock_data['Low'].iloc[-2]\n",
    "        prev_close = stock_data['Close'].iloc[-2]\n",
    "        pivot = (prev_high + prev_low + prev_close) / 3\n",
    "        res1 = 2 * pivot - prev_low\n",
    "        res2 = pivot + (res1 - (2 * pivot - prev_high))\n",
    "        res3 = prev_high + 2 * (pivot - prev_low)\n",
    "        sup1 = 2 * pivot - prev_high\n",
    "        sup2 = pivot - (res1 - sup1)\n",
    "        sup3 = prev_low - 2 * (prev_high - pivot)\n",
    "\n",
    "        # Step 2.vii: Append pivot points to short_listed_stocks\n",
    "        \n",
    "        short_listed_stocks[-1]['PIVOT'] = pivot\n",
    "        short_listed_stocks[-1]['RES1'] = res1\n",
    "        short_listed_stocks[-1]['RES2'] = res2\n",
    "        short_listed_stocks[-1]['RES3'] = res3\n",
    "        short_listed_stocks[-1]['SUP1'] = sup1\n",
    "        short_listed_stocks[-1]['SUP2'] = sup2\n",
    "        short_listed_stocks[-1]['SUP3'] = sup3\n",
    "\n",
    "        time.sleep(0.5)\n",
    "    \n",
    "    except Exception as e:\n",
    "        logging.error(f\"Error occurred for stock: {symbol}. Error message: {str(e)}\")"
   ]
  },
  {
   "cell_type": "code",
   "execution_count": 38,
   "metadata": {},
   "outputs": [
    {
     "data": {
      "text/html": [
       "<div>\n",
       "<style scoped>\n",
       "    .dataframe tbody tr th:only-of-type {\n",
       "        vertical-align: middle;\n",
       "    }\n",
       "\n",
       "    .dataframe tbody tr th {\n",
       "        vertical-align: top;\n",
       "    }\n",
       "\n",
       "    .dataframe thead th {\n",
       "        text-align: right;\n",
       "    }\n",
       "</style>\n",
       "<table border=\"1\" class=\"dataframe\">\n",
       "  <thead>\n",
       "    <tr style=\"text-align: right;\">\n",
       "      <th></th>\n",
       "      <th>symbol</th>\n",
       "      <th>flag</th>\n",
       "      <th>percent_return</th>\n",
       "      <th>PIVOT</th>\n",
       "      <th>RES1</th>\n",
       "      <th>RES2</th>\n",
       "      <th>RES3</th>\n",
       "      <th>SUP1</th>\n",
       "      <th>SUP2</th>\n",
       "      <th>SUP3</th>\n",
       "    </tr>\n",
       "  </thead>\n",
       "  <tbody>\n",
       "    <tr>\n",
       "      <th>0</th>\n",
       "      <td>ABB</td>\n",
       "      <td>1</td>\n",
       "      <td>1.949480</td>\n",
       "      <td>772.400004</td>\n",
       "      <td>779.500020</td>\n",
       "      <td>789.250041</td>\n",
       "      <td>796.350057</td>\n",
       "      <td>762.649984</td>\n",
       "      <td>755.549967</td>\n",
       "      <td>745.799947</td>\n",
       "    </tr>\n",
       "    <tr>\n",
       "      <th>1</th>\n",
       "      <td>ABBOTINDIA</td>\n",
       "      <td>1</td>\n",
       "      <td>1.502592</td>\n",
       "      <td>21680.783203</td>\n",
       "      <td>21811.566406</td>\n",
       "      <td>22020.482422</td>\n",
       "      <td>22151.265625</td>\n",
       "      <td>21471.867188</td>\n",
       "      <td>21341.083984</td>\n",
       "      <td>21132.167969</td>\n",
       "    </tr>\n",
       "    <tr>\n",
       "      <th>2</th>\n",
       "      <td>ADANIENT</td>\n",
       "      <td>-1</td>\n",
       "      <td>-1.889929</td>\n",
       "      <td>2512.483317</td>\n",
       "      <td>2539.666585</td>\n",
       "      <td>2587.183268</td>\n",
       "      <td>2614.366536</td>\n",
       "      <td>2464.966634</td>\n",
       "      <td>2437.783366</td>\n",
       "      <td>2390.266683</td>\n",
       "    </tr>\n",
       "  </tbody>\n",
       "</table>\n",
       "</div>"
      ],
      "text/plain": [
       "       symbol  flag  percent_return         PIVOT          RES1          RES2  \\\n",
       "0         ABB     1        1.949480    772.400004    779.500020    789.250041   \n",
       "1  ABBOTINDIA     1        1.502592  21680.783203  21811.566406  22020.482422   \n",
       "2    ADANIENT    -1       -1.889929   2512.483317   2539.666585   2587.183268   \n",
       "\n",
       "           RES3          SUP1          SUP2          SUP3  \n",
       "0    796.350057    762.649984    755.549967    745.799947  \n",
       "1  22151.265625  21471.867188  21341.083984  21132.167969  \n",
       "2   2614.366536   2464.966634   2437.783366   2390.266683  "
      ]
     },
     "execution_count": 38,
     "metadata": {},
     "output_type": "execute_result"
    }
   ],
   "source": [
    "pd.DataFrame(short_listed_stocks)"
   ]
  },
  {
   "cell_type": "code",
   "execution_count": 48,
   "metadata": {},
   "outputs": [
    {
     "name": "stdout",
     "output_type": "stream",
     "text": [
      "[*********************100%***********************]  1 of 1 completed"
     ]
    },
    {
     "name": "stderr",
     "output_type": "stream",
     "text": [
      "2023-06-04 17:55:26,129 - ERROR - Error occurred for stock: NYKAA. Error message: list indices must be integers or slices, not str\n"
     ]
    },
    {
     "name": "stdout",
     "output_type": "stream",
     "text": [
      "\n",
      "[*********************100%***********************]  1 of 1 completed"
     ]
    },
    {
     "name": "stderr",
     "output_type": "stream",
     "text": [
      "2023-06-04 17:55:26,531 - ERROR - Error occurred for stock: ZOMATO. Error message: list indices must be integers or slices, not str\n"
     ]
    },
    {
     "name": "stdout",
     "output_type": "stream",
     "text": [
      "\n",
      "[*********************100%***********************]  1 of 1 completed"
     ]
    },
    {
     "name": "stderr",
     "output_type": "stream",
     "text": [
      "2023-06-04 17:55:26,938 - ERROR - Error occurred for stock: ZYDUSLIFE. Error message: list indices must be integers or slices, not str\n"
     ]
    },
    {
     "name": "stdout",
     "output_type": "stream",
     "text": [
      "\n"
     ]
    }
   ],
   "source": [
    "import yfinance as yf\n",
    "import pandas as pd\n",
    "from datetime import date, timedelta\n",
    "import os \n",
    "import yaml\n",
    "import time\n",
    "import logging\n",
    "\n",
    "# Configure logging\n",
    "logging.basicConfig(level=logging.INFO, format='%(asctime)s - %(levelname)s - %(message)s')\n",
    "logging.basicConfig(level=logging.ERROR,\n",
    "                    format='[%(levelname)s] %(message)s (%(filename)s:%(lineno)d)',\n",
    "                    handlers=[logging.StreamHandler()])\n",
    "logger = logging.getLogger()\n",
    "logger.showLineNumber = True\n",
    "\n",
    "# Disable logs from yfinance module\n",
    "logging.getLogger(\"yfinance\").setLevel(logging.WARNING)\n",
    "\n",
    "# Step 1: Read the stock symbols from universe.csv\n",
    "root_dir = os.path.dirname(os.getcwd())\n",
    "# Construct the absolute path to the universe.csv file\n",
    "csv_path = os.path.join(root_dir, 'data', 'universe.csv')\n",
    "# Read the universe.csv file\n",
    "universe_df = pd.read_csv(csv_path)\n",
    "stock_symbols = universe_df['Symbol'].tolist()\n",
    "\n",
    "# Read the threshold values from the YAML file\n",
    "yaml_path = os.path.join(root_dir, 'config', 'config.yaml')\n",
    "with open(yaml_path, 'r') as yaml_file:\n",
    "    config = yaml.safe_load(yaml_file)\n",
    "threshold_positive = config['threshold_positive']\n",
    "threshold_negative = config['threshold_negative']\n",
    "\n",
    "# Step 2: Screen stocks and calculate pivots\n",
    "short_listed_stocks = []\n",
    "# Get the root directory of the project\n",
    "\n",
    "# Loop through stock symbols\n",
    "for symbol in stock_symbols:\n",
    "    # Append \".NS\" to symbol\n",
    "    symbol_ns = symbol + \".NS\"\n",
    "\n",
    "    # Step 2.ii: Fetch data from yfinance\n",
    "    end_date = date.today() - timedelta(days=1)  # Get previous day's OHLC\n",
    "    start_date = end_date - timedelta(days=7)  # Get data for the last 7 days\n",
    "    try:\n",
    "        stock_data = yf.download(symbol_ns, start=start_date, end=end_date)\n",
    "\n",
    "        # Check if data is available for the stock\n",
    "        if stock_data.empty:\n",
    "            logging.warning(f\"No data available for stock: {symbol}\")\n",
    "            continue\n",
    "\n",
    "        # Step 2.iii: Calculate % return for each day\n",
    "        stock_data['Prev Close'] = stock_data['Close'].shift(1)\n",
    "        stock_data['% Return'] = (stock_data['Close'] - stock_data['Prev Close']) / stock_data['Prev Close'] * 100\n",
    "\n",
    "        # Step 2.iv: Check for gain or loss and update short_listed_stocks\n",
    "        if stock_data['% Return'].iloc[-1] > threshold_positive:\n",
    "            short_listed_stocks.append({'symbol': symbol, 'flag': 1, 'percent_return': stock_data['% Return'].iloc[-1]})\n",
    "        elif stock_data['% Return'].iloc[-1] < threshold_negative:\n",
    "            short_listed_stocks.append({'symbol': symbol, 'flag': -1, 'percent_return': stock_data['% Return'].iloc[-1]})\n",
    "\n",
    "        # Step 2.vi: Calculate pivots\n",
    "        prev_high = stock_data['High'].iloc[-2]\n",
    "        prev_low = stock_data['Low'].iloc[-2]\n",
    "        prev_close = stock_data['Close'].iloc[-2]\n",
    "        pivot = (prev_high + prev_low + prev_close) / 3\n",
    "        res1 = 2 * pivot - prev_low\n",
    "        res2 = pivot + (res1 - (2 * pivot - prev_high))\n",
    "        res3 = prev_high + 2 * (pivot - prev_low)\n",
    "        sup1 = 2 * pivot - prev_high\n",
    "        sup2 = pivot - (res1 - sup1)\n",
    "        sup3 = prev_low - 2 * (prev_high - pivot)\n",
    "\n",
    "        short_listed_stocks[symbol]['PIVOT'] = pivot\n",
    "        short_listed_stocks[symbol]['RES1'] = res1\n",
    "        short_listed_stocks[symbol]['RES2'] = res2\n",
    "        short_listed_stocks[symbol]['RES3'] = res3\n",
    "        short_listed_stocks[symbol]['SUP1'] = sup1\n",
    "        short_listed_stocks[symbol]['SUP2'] = sup2\n",
    "        short_listed_stocks[symbol]['SUP3'] = sup3\n",
    "\n",
    "        stock_dict = {'symbol': symbol, 'PIVOT': pivot, 'RES1': res1, 'RES2': res2, 'RES3': res3,\n",
    "                      'SUP1': sup1, 'SUP2': sup2, 'SUP3': sup3}\n",
    "        short_listed_stocks.append(stock_dict)\n",
    "\n",
    "        time.sleep(0.5)\n",
    "    except Exception as e:\n",
    "        logging.error(f\"Error occurred for stock: {symbol}. Error message: {str(e)}\")"
   ]
  },
  {
   "cell_type": "code",
   "execution_count": 47,
   "metadata": {},
   "outputs": [
    {
     "data": {
      "text/plain": [
       "[{'symbol': 'NYKAA', 'flag': 1, 'percent_return': 7.609986807770045},\n",
       " {'symbol': 'ZOMATO', 'flag': 1, 'percent_return': 4.70935205497386}]"
      ]
     },
     "execution_count": 47,
     "metadata": {},
     "output_type": "execute_result"
    }
   ],
   "source": [
    "short_listed_stocks"
   ]
  },
  {
   "cell_type": "code",
   "execution_count": 50,
   "metadata": {},
   "outputs": [
    {
     "data": {
      "text/plain": [
       "514.4000244140625"
      ]
     },
     "execution_count": 50,
     "metadata": {},
     "output_type": "execute_result"
    }
   ],
   "source": [
    "stock_data['High'].iloc[-2]"
   ]
  },
  {
   "cell_type": "code",
   "execution_count": 51,
   "metadata": {},
   "outputs": [
    {
     "data": {
      "text/plain": [
       "[{'symbol': 'NYKAA', 'flag': 1, 'percent_return': 7.609986807770045},\n",
       " {'symbol': 'ZOMATO', 'flag': 1, 'percent_return': 4.70935205497386}]"
      ]
     },
     "execution_count": 51,
     "metadata": {},
     "output_type": "execute_result"
    }
   ],
   "source": [
    "short_listed_stocks"
   ]
  },
  {
   "cell_type": "code",
   "execution_count": 64,
   "metadata": {},
   "outputs": [
    {
     "name": "stdout",
     "output_type": "stream",
     "text": [
      "[*********************100%***********************]  1 of 1 completed\n",
      "[*********************100%***********************]  1 of 1 completed\n",
      "[*********************100%***********************]  1 of 1 completed\n"
     ]
    }
   ],
   "source": [
    "import yfinance as yf\n",
    "import pandas as pd\n",
    "from datetime import date, timedelta\n",
    "import os \n",
    "import yaml\n",
    "import time\n",
    "import logging\n",
    "\n",
    "# Configure logging\n",
    "logging.basicConfig(level=logging.INFO, format='%(asctime)s - %(levelname)s - %(message)s')\n",
    "logging.basicConfig(level=logging.ERROR,\n",
    "                    format='[%(levelname)s] %(message)s (%(filename)s:%(lineno)d)',\n",
    "                    handlers=[logging.StreamHandler()])\n",
    "logger = logging.getLogger()\n",
    "logger.showLineNumber = True\n",
    "\n",
    "# Disable logs from yfinance module\n",
    "logging.getLogger(\"yfinance\").setLevel(logging.WARNING)\n",
    "\n",
    "# Step 1: Read the stock symbols from universe.csv\n",
    "root_dir = os.path.dirname(os.getcwd())\n",
    "# Construct the absolute path to the universe.csv file\n",
    "csv_path = os.path.join(root_dir, 'data', 'universe.csv')\n",
    "# Read the universe.csv file\n",
    "universe_df = pd.read_csv(csv_path)\n",
    "stock_symbols = universe_df['Symbol'].tolist()\n",
    "\n",
    "# Read the threshold values from the YAML file\n",
    "yaml_path = os.path.join(root_dir, 'config', 'config.yaml')\n",
    "with open(yaml_path, 'r') as yaml_file:\n",
    "    config = yaml.safe_load(yaml_file)\n",
    "threshold_positive = config['threshold_positive']\n",
    "threshold_negative = config['threshold_negative']\n",
    "\n",
    "# Step 2: Screen stocks and calculate pivots\n",
    "short_listed_stocks = []\n",
    "# Get the root directory of the project\n",
    "\n",
    "# Loop through stock symbols\n",
    "for symbol in stock_symbols:\n",
    "    stock_dict ={}\n",
    "    # Append \".NS\" to symbol\n",
    "    symbol_ns = symbol + \".NS\"\n",
    "\n",
    "    # Step 2.ii: Fetch data from yfinance\n",
    "    end_date = date.today() - timedelta(days=1)  # Get previous day's OHLC\n",
    "    start_date = end_date - timedelta(days=7)  # Get data for the last 7 days\n",
    "    stock_data = yf.download(symbol_ns, start=start_date, end=end_date)\n",
    "\n",
    "    # Check if data is available for the stock\n",
    "    if stock_data.empty:\n",
    "        logging.warning(f\"No data available for stock: {symbol}\")\n",
    "        continue\n",
    "\n",
    "    # Step 2.iii: Calculate % return for each day\n",
    "    stock_data['Prev Close'] = stock_data['Close'].shift(1)\n",
    "    stock_data['% Return'] = (stock_data['Close'] - stock_data['Prev Close']) / stock_data['Prev Close'] * 100\n",
    "\n",
    "    # Step 2.iv: Check for gain or loss and update short_listed_stocks\n",
    "    stock_dict['symbol'] = symbol\n",
    "    stock_dict['percent_return'] = stock_data['% Return'].iloc[-1]\n",
    "    if stock_data['% Return'].iloc[-1] > threshold_positive:\n",
    "        stock_dict['flag'] = 1\n",
    "        #short_listed_stocks.append({'symbol': symbol, 'flag': 1, 'percent_return': stock_data['% Return'].iloc[-1]})\n",
    "    elif stock_data['% Return'].iloc[-1] < threshold_negative:\n",
    "        #short_listed_stocks.append({'symbol': symbol, 'flag': -1, 'percent_return': stock_data['% Return'].iloc[-1]})\n",
    "        stock_dict['flag'] = -1\n",
    "    else:\n",
    "        stock_dict['flag'] = 0\n",
    "\n",
    "    # Step 2.vi: Calculate pivots\n",
    "    prev_high = stock_data['High'].iloc[-1]\n",
    "    prev_low = stock_data['Low'].iloc[-1]\n",
    "    prev_close = stock_data['Close'].iloc[-1]\n",
    "    pivot = (prev_high + prev_low + prev_close) / 3\n",
    "    res1 = 2 * pivot - prev_low\n",
    "    res2 = pivot + (res1 - (2 * pivot - prev_high))\n",
    "    res3 = prev_high + 2 * (pivot - prev_low)\n",
    "    sup1 = 2 * pivot - prev_high\n",
    "    sup2 = pivot - (res1 - sup1)\n",
    "    sup3 = prev_low - 2 * (prev_high - pivot)\n",
    "\n",
    "    # short_listed_stocks[symbol]['PIVOT'] = pivot\n",
    "    # short_listed_stocks[symbol]['RES1'] = res1\n",
    "    # short_listed_stocks[symbol]['RES2'] = res2\n",
    "    # short_listed_stocks[symbol]['RES3'] = res3\n",
    "    # short_listed_stocks[symbol]['SUP1'] = sup1\n",
    "    # short_listed_stocks[symbol]['SUP2'] = sup2\n",
    "    # short_listed_stocks[symbol]['SUP3'] = sup3\n",
    "    stock_dict['PIVOT'] = pivot\n",
    "    stock_dict['RES1'] = res1\n",
    "    stock_dict['RES2'] = res2\n",
    "    stock_dict['RES3'] = res3\n",
    "    stock_dict['SUP1'] = sup1\n",
    "    stock_dict['SUP2'] = sup2\n",
    "    stock_dict['SUP3'] = sup3\n",
    "\n",
    "    # pivot_list = [{'PIVOT': pivot}, {'RES1': res1}, {'RES2': res2}, {'RES3': res3},\n",
    "    #                 {'SUP1': sup1}, {'SUP2': sup2}, {'SUP3': sup3}]\n",
    "    # stock_dict.update(pivot_list)\n",
    "    short_listed_stocks.append(stock_dict)\n",
    "\n",
    "    time.sleep(0.5)"
   ]
  },
  {
   "cell_type": "code",
   "execution_count": 65,
   "metadata": {},
   "outputs": [
    {
     "data": {
      "text/html": [
       "<div>\n",
       "<style scoped>\n",
       "    .dataframe tbody tr th:only-of-type {\n",
       "        vertical-align: middle;\n",
       "    }\n",
       "\n",
       "    .dataframe tbody tr th {\n",
       "        vertical-align: top;\n",
       "    }\n",
       "\n",
       "    .dataframe thead th {\n",
       "        text-align: right;\n",
       "    }\n",
       "</style>\n",
       "<table border=\"1\" class=\"dataframe\">\n",
       "  <thead>\n",
       "    <tr style=\"text-align: right;\">\n",
       "      <th></th>\n",
       "      <th>symbol</th>\n",
       "      <th>percent_return</th>\n",
       "      <th>flag</th>\n",
       "      <th>PIVOT</th>\n",
       "      <th>RES1</th>\n",
       "      <th>RES2</th>\n",
       "      <th>RES3</th>\n",
       "      <th>SUP1</th>\n",
       "      <th>SUP2</th>\n",
       "      <th>SUP3</th>\n",
       "    </tr>\n",
       "  </thead>\n",
       "  <tbody>\n",
       "    <tr>\n",
       "      <th>0</th>\n",
       "      <td>NYKAA</td>\n",
       "      <td>7.609987</td>\n",
       "      <td>1</td>\n",
       "      <td>132.750000</td>\n",
       "      <td>139.800003</td>\n",
       "      <td>143.850006</td>\n",
       "      <td>150.900009</td>\n",
       "      <td>128.699997</td>\n",
       "      <td>121.649994</td>\n",
       "      <td>117.599991</td>\n",
       "    </tr>\n",
       "    <tr>\n",
       "      <th>1</th>\n",
       "      <td>ZOMATO</td>\n",
       "      <td>4.709352</td>\n",
       "      <td>1</td>\n",
       "      <td>71.283333</td>\n",
       "      <td>73.066666</td>\n",
       "      <td>74.983330</td>\n",
       "      <td>76.766663</td>\n",
       "      <td>69.366669</td>\n",
       "      <td>67.583336</td>\n",
       "      <td>65.666672</td>\n",
       "    </tr>\n",
       "    <tr>\n",
       "      <th>2</th>\n",
       "      <td>ZYDUSLIFE</td>\n",
       "      <td>0.895983</td>\n",
       "      <td>0</td>\n",
       "      <td>517.416667</td>\n",
       "      <td>521.433309</td>\n",
       "      <td>524.866618</td>\n",
       "      <td>528.883260</td>\n",
       "      <td>513.983358</td>\n",
       "      <td>509.966715</td>\n",
       "      <td>506.533407</td>\n",
       "    </tr>\n",
       "  </tbody>\n",
       "</table>\n",
       "</div>"
      ],
      "text/plain": [
       "      symbol  percent_return  flag       PIVOT        RES1        RES2  \\\n",
       "0      NYKAA        7.609987     1  132.750000  139.800003  143.850006   \n",
       "1     ZOMATO        4.709352     1   71.283333   73.066666   74.983330   \n",
       "2  ZYDUSLIFE        0.895983     0  517.416667  521.433309  524.866618   \n",
       "\n",
       "         RES3        SUP1        SUP2        SUP3  \n",
       "0  150.900009  128.699997  121.649994  117.599991  \n",
       "1   76.766663   69.366669   67.583336   65.666672  \n",
       "2  528.883260  513.983358  509.966715  506.533407  "
      ]
     },
     "execution_count": 65,
     "metadata": {},
     "output_type": "execute_result"
    }
   ],
   "source": [
    "pd.DataFrame(short_listed_stocks)"
   ]
  },
  {
   "cell_type": "code",
   "execution_count": 66,
   "metadata": {},
   "outputs": [
    {
     "name": "stdout",
     "output_type": "stream",
     "text": [
      "[*********************100%***********************]  1 of 1 completed\n",
      "[*********************100%***********************]  1 of 1 completed\n",
      "[*********************100%***********************]  1 of 1 completed\n",
      "      symbol  flag  percent_return       PIVOT        RES1        RES2  \\\n",
      "0      NYKAA     1        7.609987  132.750000  139.800003  143.850006   \n",
      "1     ZOMATO     1        4.709352   71.283333   73.066666   74.983330   \n",
      "2  ZYDUSLIFE     0        0.895983  517.416667  521.433309  524.866618   \n",
      "\n",
      "         RES3        SUP1        SUP2        SUP3  \n",
      "0  150.900009  128.699997  121.649994  117.599991  \n",
      "1   76.766663   69.366669   67.583336   65.666672  \n",
      "2  528.883260  513.983358  509.966715  506.533407  \n"
     ]
    }
   ],
   "source": [
    "import yfinance as yf\n",
    "import pandas as pd\n",
    "from datetime import date, timedelta\n",
    "import os\n",
    "import yaml\n",
    "import time\n",
    "import logging\n",
    "\n",
    "\n",
    "class StockAnalyzer:\n",
    "    def __init__(self):\n",
    "        # Configure logging\n",
    "        logging.basicConfig(level=logging.INFO, format='%(asctime)s - %(levelname)s - %(message)s')\n",
    "        logging.basicConfig(level=logging.ERROR,\n",
    "                            format='[%(levelname)s] %(message)s (%(filename)s:%(lineno)d)',\n",
    "                            handlers=[logging.StreamHandler()])\n",
    "        self.logger = logging.getLogger()\n",
    "        self.logger.showLineNumber = True\n",
    "\n",
    "        # Disable logs from yfinance module\n",
    "        logging.getLogger(\"yfinance\").setLevel(logging.WARNING)\n",
    "\n",
    "        # Step 1: Read the stock symbols from universe.csv\n",
    "        root_dir = os.path.dirname(os.getcwd())\n",
    "        # Construct the absolute path to the universe.csv file\n",
    "        csv_path = os.path.join(root_dir, 'data', 'universe.csv')\n",
    "        # Read the universe.csv file\n",
    "        self.universe_df = pd.read_csv(csv_path)\n",
    "        self.stock_symbols = self.universe_df['Symbol'].tolist()\n",
    "\n",
    "        # Read the threshold values from the YAML file\n",
    "        yaml_path = os.path.join(root_dir, 'config', 'config.yaml')\n",
    "        with open(yaml_path, 'r') as yaml_file:\n",
    "            config = yaml.safe_load(yaml_file)\n",
    "        self.threshold_positive = config['threshold_positive']\n",
    "        self.threshold_negative = config['threshold_negative']\n",
    "\n",
    "        self.short_listed_stocks = []\n",
    "\n",
    "    def run_analysis(self):\n",
    "        for symbol in self.stock_symbols:\n",
    "            stock_data = self.fetch_stock_data(symbol)\n",
    "            if stock_data is None:\n",
    "                continue\n",
    "\n",
    "            percent_return = self.calculate_percent_return(stock_data)\n",
    "            flag = self.check_flag(percent_return)\n",
    "            pivot_points = self.calculate_pivot_points(stock_data)\n",
    "\n",
    "            stock_dict = {\n",
    "                'symbol': symbol,\n",
    "                'flag': flag,\n",
    "                'percent_return': percent_return,\n",
    "                **pivot_points\n",
    "            }\n",
    "            self.short_listed_stocks.append(stock_dict)\n",
    "            time.sleep(0.5)\n",
    "\n",
    "    def fetch_stock_data(self, symbol):\n",
    "        symbol_ns = symbol + \".NS\"\n",
    "        end_date = date.today() - timedelta(days=1)\n",
    "        start_date = end_date - timedelta(days=7)\n",
    "        stock_data = yf.download(symbol_ns, start=start_date, end=end_date)\n",
    "\n",
    "        if stock_data.empty:\n",
    "            self.logger.warning(f\"No data available for stock: {symbol}\")\n",
    "            return None\n",
    "\n",
    "        return stock_data\n",
    "\n",
    "    def calculate_percent_return(self, stock_data):\n",
    "        stock_data['Prev Close'] = stock_data['Close'].shift(1)\n",
    "        stock_data['% Return'] = (stock_data['Close'] - stock_data['Prev Close']) / stock_data['Prev Close'] * 100\n",
    "        return stock_data['% Return'].iloc[-1]\n",
    "\n",
    "    def check_flag(self, percent_return):\n",
    "        if percent_return > self.threshold_positive:\n",
    "            return 1\n",
    "        elif percent_return < self.threshold_negative:\n",
    "            return -1\n",
    "        else:\n",
    "            return 0\n",
    "\n",
    "    def calculate_pivot_points(self, stock_data):\n",
    "        prev_high = stock_data['High'].iloc[-1]\n",
    "        prev_low = stock_data['Low'].iloc[-1]\n",
    "        prev_close = stock_data['Close'].iloc[-1]\n",
    "        pivot = (prev_high + prev_low + prev_close) / 3\n",
    "        res1 = 2 * pivot - prev_low\n",
    "        res2 = pivot + (res1 - (2 * pivot - prev_high))\n",
    "        res3 = prev_high + 2 * (pivot - prev_low)\n",
    "        sup1 = 2 * pivot - prev_high\n",
    "        sup2 = pivot - (res1 - sup1)\n",
    "        sup3 = prev_low - 2 * (prev_high - pivot)\n",
    "\n",
    "        pivot_points = {\n",
    "            'PIVOT': pivot,\n",
    "            'RES1': res1,\n",
    "            'RES2': res2,\n",
    "            'RES3': res3,\n",
    "            'SUP1': sup1,\n",
    "            'SUP2': sup2,\n",
    "            'SUP3': sup3\n",
    "        }\n",
    "\n",
    "        return pivot_points\n",
    "\n",
    "\n",
    "# Create an instance of StockAnalyzer and run the analysis\n",
    "analyzer = StockAnalyzer()\n",
    "analyzer.run_analysis()\n",
    "\n",
    "# Access the short-listed stocks\n",
    "short_listed_stocks = analyzer.short_listed_stocks\n",
    "\n",
    "# Convert short_listed_stocks to a pandas DataFrame\n",
    "df = pd.DataFrame(short_listed_stocks)\n",
    "print(df)"
   ]
  },
  {
   "cell_type": "code",
   "execution_count": 67,
   "metadata": {},
   "outputs": [
    {
     "data": {
      "text/html": [
       "<div>\n",
       "<style scoped>\n",
       "    .dataframe tbody tr th:only-of-type {\n",
       "        vertical-align: middle;\n",
       "    }\n",
       "\n",
       "    .dataframe tbody tr th {\n",
       "        vertical-align: top;\n",
       "    }\n",
       "\n",
       "    .dataframe thead th {\n",
       "        text-align: right;\n",
       "    }\n",
       "</style>\n",
       "<table border=\"1\" class=\"dataframe\">\n",
       "  <thead>\n",
       "    <tr style=\"text-align: right;\">\n",
       "      <th></th>\n",
       "      <th>symbol</th>\n",
       "      <th>flag</th>\n",
       "      <th>percent_return</th>\n",
       "      <th>PIVOT</th>\n",
       "      <th>RES1</th>\n",
       "      <th>RES2</th>\n",
       "      <th>RES3</th>\n",
       "      <th>SUP1</th>\n",
       "      <th>SUP2</th>\n",
       "      <th>SUP3</th>\n",
       "    </tr>\n",
       "  </thead>\n",
       "  <tbody>\n",
       "    <tr>\n",
       "      <th>0</th>\n",
       "      <td>NYKAA</td>\n",
       "      <td>1</td>\n",
       "      <td>7.609987</td>\n",
       "      <td>132.750000</td>\n",
       "      <td>139.800003</td>\n",
       "      <td>143.850006</td>\n",
       "      <td>150.900009</td>\n",
       "      <td>128.699997</td>\n",
       "      <td>121.649994</td>\n",
       "      <td>117.599991</td>\n",
       "    </tr>\n",
       "    <tr>\n",
       "      <th>1</th>\n",
       "      <td>ZOMATO</td>\n",
       "      <td>1</td>\n",
       "      <td>4.709352</td>\n",
       "      <td>71.283333</td>\n",
       "      <td>73.066666</td>\n",
       "      <td>74.983330</td>\n",
       "      <td>76.766663</td>\n",
       "      <td>69.366669</td>\n",
       "      <td>67.583336</td>\n",
       "      <td>65.666672</td>\n",
       "    </tr>\n",
       "    <tr>\n",
       "      <th>2</th>\n",
       "      <td>ZYDUSLIFE</td>\n",
       "      <td>0</td>\n",
       "      <td>0.895983</td>\n",
       "      <td>517.416667</td>\n",
       "      <td>521.433309</td>\n",
       "      <td>524.866618</td>\n",
       "      <td>528.883260</td>\n",
       "      <td>513.983358</td>\n",
       "      <td>509.966715</td>\n",
       "      <td>506.533407</td>\n",
       "    </tr>\n",
       "  </tbody>\n",
       "</table>\n",
       "</div>"
      ],
      "text/plain": [
       "      symbol  flag  percent_return       PIVOT        RES1        RES2  \\\n",
       "0      NYKAA     1        7.609987  132.750000  139.800003  143.850006   \n",
       "1     ZOMATO     1        4.709352   71.283333   73.066666   74.983330   \n",
       "2  ZYDUSLIFE     0        0.895983  517.416667  521.433309  524.866618   \n",
       "\n",
       "         RES3        SUP1        SUP2        SUP3  \n",
       "0  150.900009  128.699997  121.649994  117.599991  \n",
       "1   76.766663   69.366669   67.583336   65.666672  \n",
       "2  528.883260  513.983358  509.966715  506.533407  "
      ]
     },
     "execution_count": 67,
     "metadata": {},
     "output_type": "execute_result"
    }
   ],
   "source": [
    "df"
   ]
  },
  {
   "cell_type": "code",
   "execution_count": 2,
   "metadata": {},
   "outputs": [],
   "source": [
    "import yfinance as yf\n",
    "import pandas as pd\n",
    "from datetime import date, timedelta, datetime, time\n",
    "from smartapi import SmartConnect\n",
    "import time\n",
    "import logging\n",
    "import pytz\n",
    "import yaml\n",
    "import pyotp"
   ]
  },
  {
   "cell_type": "code",
   "execution_count": 3,
   "metadata": {},
   "outputs": [
    {
     "name": "stdout",
     "output_type": "stream",
     "text": [
      "JyXQQd0X C5O2A5URXI5LRRVMT7Y7TPYJFM VADL1002 2112\n",
      "{'status': True, 'message': 'SUCCESS', 'errorcode': '', 'data': {'clientcode': 'VADL1002', 'name': 'BHAVESH GHODASARA', 'email': '', 'mobileno': '', 'exchanges': ['bse_cm', 'nse_cm', 'nse_fo', 'cde_fo', 'mcx_fo', 'ncx_fo'], 'products': ['BO', 'NRML', 'CO', 'CNC', 'MIS', 'MARGIN'], 'lastlogintime': '', 'broker': ''}}\n"
     ]
    }
   ],
   "source": [
    "def load_credentials():\n",
    "    with open(\"../config/api_credentials.yaml\", \"r\") as file:\n",
    "        credentials = yaml.safe_load(file)\n",
    "    api_key = credentials[\"api_key\"]\n",
    "    secret_key = credentials[\"secret_key\"]\n",
    "    client_id = credentials[\"client_id\"]\n",
    "    password = credentials[\"password\"]\n",
    "    print(api_key, secret_key, client_id, password)\n",
    "    return api_key, secret_key, client_id, password\n",
    "def generate_smart_connect_object(api_key, secret_key, client_id, password ):\n",
    "    obj = SmartConnect(api_key=api_key)\n",
    "    totp = pyotp.TOTP(s=secret_key)\n",
    "    data = obj.generateSession(client_id, password, totp.now())\n",
    "    # One time script to refresh NIFTY data\n",
    "    refreshToken= data['data']['refreshToken']\n",
    "    #fetch the feedtoken\n",
    "    feedToken=obj.getfeedToken()\n",
    "    #fetch User Profile\n",
    "    userProfile= obj.getProfile(refreshToken)\n",
    "    print(userProfile)\n",
    "    return obj\n",
    "api_key, secret_key, client_id, password = load_credentials()    \n",
    "obj = generate_smart_connect_object(api_key, secret_key, client_id, password)"
   ]
  },
  {
   "cell_type": "code",
   "execution_count": 4,
   "metadata": {},
   "outputs": [
    {
     "name": "stdout",
     "output_type": "stream",
     "text": [
      "<smartapi.smartConnect.SmartConnect object at 0x000002363C541400>\n"
     ]
    }
   ],
   "source": [
    "print(obj)"
   ]
  },
  {
   "cell_type": "code",
   "execution_count": 5,
   "metadata": {},
   "outputs": [
    {
     "data": {
      "text/plain": [
       "{'status': True,\n",
       " 'message': 'SUCCESS',\n",
       " 'errorcode': '',\n",
       " 'data': {'exchange': 'NSE',\n",
       "  'tradingsymbol': 'PRESTIGE-EQ',\n",
       "  'symboltoken': '20302',\n",
       "  'open': 574.15,\n",
       "  'high': 581.45,\n",
       "  'low': 574.05,\n",
       "  'close': 574.15,\n",
       "  'ltp': 580.15}}"
      ]
     },
     "execution_count": 5,
     "metadata": {},
     "output_type": "execute_result"
    }
   ],
   "source": [
    "ltp = obj.ltpData(\"NSE\", f\"PRESTIGE-EQ\", \"20302\")\n",
    "ltp"
   ]
  },
  {
   "cell_type": "code",
   "execution_count": 11,
   "metadata": {},
   "outputs": [
    {
     "data": {
      "text/plain": [
       "565.0"
      ]
     },
     "execution_count": 11,
     "metadata": {},
     "output_type": "execute_result"
    }
   ],
   "source": [
    "ltp['data']['ltp']"
   ]
  },
  {
   "cell_type": "code",
   "execution_count": 20,
   "metadata": {},
   "outputs": [
    {
     "ename": "TypeError",
     "evalue": "ltpData() missing 1 required positional argument: 'symboltoken'",
     "output_type": "error",
     "traceback": [
      "\u001b[1;31m---------------------------------------------------------------------------\u001b[0m",
      "\u001b[1;31mTypeError\u001b[0m                                 Traceback (most recent call last)",
      "\u001b[1;32m<ipython-input-20-32c7dad2ffe1>\u001b[0m in \u001b[0;36m<module>\u001b[1;34m\u001b[0m\n\u001b[1;32m----> 1\u001b[1;33m \u001b[0mltp\u001b[0m \u001b[1;33m=\u001b[0m \u001b[0mobj\u001b[0m\u001b[1;33m.\u001b[0m\u001b[0mltpData\u001b[0m\u001b[1;33m(\u001b[0m\u001b[1;34m\"NSE\"\u001b[0m\u001b[1;33m,\u001b[0m \u001b[1;34mf\"PRESTIGE-EQ\"\u001b[0m\u001b[1;33m)\u001b[0m\u001b[1;33m\u001b[0m\u001b[1;33m\u001b[0m\u001b[0m\n\u001b[0m",
      "\u001b[1;31mTypeError\u001b[0m: ltpData() missing 1 required positional argument: 'symboltoken'"
     ]
    }
   ],
   "source": [
    "ltp = obj.ltpData(\"NSE\", f\"PRESTIGE-EQ\", \"20302\")"
   ]
  },
  {
   "cell_type": "code",
   "execution_count": 23,
   "metadata": {},
   "outputs": [
    {
     "data": {
      "text/plain": [
       "{'status': True,\n",
       " 'message': 'SUCCESS',\n",
       " 'errorcode': '',\n",
       " 'data': [['2021-02-08T09:15:00+05:30', 398.0, 403.45, 397.3, 401.85, 2609877],\n",
       "  ['2021-02-08T09:16:00+05:30', 402.15, 403.0, 401.45, 401.75, 1470752]]}"
      ]
     },
     "execution_count": 23,
     "metadata": {},
     "output_type": "execute_result"
    }
   ],
   "source": [
    "obj.getCandleData({\n",
    "        \"exchange\": \"NSE\",\n",
    "            \"symboltoken\": \"3045\",\n",
    "            \"interval\": \"ONE_MINUTE\",\n",
    "            \"fromdate\": \"2021-02-08 09:00\", \n",
    "            \"todate\": \"2021-02-08 09:16\"}\n",
    ")\n",
    "\n",
    "{'exchange': 'NFO', 'symboltoken': '7', 'interval': 'ONE_DAY', 'fromdate': '2023-05-31 00:00', 'todate': '2023-06-07 23:59'}"
   ]
  },
  {
   "cell_type": "code",
   "execution_count": null,
   "metadata": {},
   "outputs": [],
   "source": []
  }
 ],
 "metadata": {
  "kernelspec": {
   "display_name": "NSE_price_prediction",
   "language": "python",
   "name": "python3"
  },
  "language_info": {
   "codemirror_mode": {
    "name": "ipython",
    "version": 3
   },
   "file_extension": ".py",
   "mimetype": "text/x-python",
   "name": "python",
   "nbconvert_exporter": "python",
   "pygments_lexer": "ipython3",
   "version": "3.8.12"
  },
  "orig_nbformat": 4
 },
 "nbformat": 4,
 "nbformat_minor": 2
}
